{
 "cells": [
  {
   "cell_type": "markdown",
   "metadata": {},
   "source": [
    "# Sentiment Analysis (Deep Learning, LSTM)\n",
    "\n",
    "In this tutorial, we perform sentiment analysis using deep learning, where we use a Recurrent Neural Network (RNN) network structure. More specifically, we perform a many a many-to-one classification -- that is, given a sequence of words, we are only interested in one final class (not, e.g., into a class for each word in sequence):\n",
    "\n",
    "<img src=\"images/rnn-many-to-one-sequence-classification.jpg\" alt=\"Drawing\" style=\"width: 20%;\"/>\n"
   ]
  },
  {
   "cell_type": "markdown",
   "metadata": {},
   "source": [
    "## Import required packages"
   ]
  },
  {
   "cell_type": "code",
   "execution_count": 1,
   "metadata": {
    "collapsed": false
   },
   "outputs": [
    {
     "name": "stderr",
     "output_type": "stream",
     "text": [
      "Using TensorFlow backend.\n"
     ]
    }
   ],
   "source": [
    "import os\n",
    "import numpy as np\n",
    "import pandas as pd\n",
    "import csv\n",
    "\n",
    "from keras.preprocessing.text import Tokenizer\n",
    "from keras.preprocessing.sequence import pad_sequences\n",
    "from keras.models import Sequential\n",
    "from keras.layers import Dense, Activation, LSTM, Embedding, Dropout, Bidirectional\n",
    "\n",
    "from sklearn.preprocessing import LabelBinarizer\n",
    "\n",
    "# The next imports are only needed for the preprocessing\n",
    "from nltk.tokenize import TweetTokenizer\n",
    "from nltk.stem import WordNetLemmatizer\n",
    "from utils.nlputil import preprocess_text"
   ]
  },
  {
   "cell_type": "code",
   "execution_count": 2,
   "metadata": {
    "collapsed": true
   },
   "outputs": [],
   "source": [
    "tweet_tokenizer = TweetTokenizer()\n",
    "wordnet_lemmatizer = WordNetLemmatizer()"
   ]
  },
  {
   "cell_type": "code",
   "execution_count": 3,
   "metadata": {
    "collapsed": true
   },
   "outputs": [],
   "source": [
    "NUM_LABELS = 3 # We have 3 polarity classes\n",
    "MAX_WORDS = 1000\n",
    "EMBEDDING_DIM = 50\n",
    "LSTM_HIDDEN_DIM = 32"
   ]
  },
  {
   "cell_type": "markdown",
   "metadata": {},
   "source": [
    "## Date preparation"
   ]
  },
  {
   "cell_type": "markdown",
   "metadata": {},
   "source": [
    "### Load data from files"
   ]
  },
  {
   "cell_type": "code",
   "execution_count": 4,
   "metadata": {
    "collapsed": false
   },
   "outputs": [
    {
     "data": {
      "text/html": [
       "<div>\n",
       "<table border=\"1\" class=\"dataframe\">\n",
       "  <thead>\n",
       "    <tr style=\"text-align: right;\">\n",
       "      <th></th>\n",
       "      <th>tweet</th>\n",
       "      <th>senti</th>\n",
       "    </tr>\n",
       "  </thead>\n",
       "  <tbody>\n",
       "    <tr>\n",
       "      <th>0</th>\n",
       "      <td>@united UA5396 can wait for me. I'm on the gro...</td>\n",
       "      <td>0</td>\n",
       "    </tr>\n",
       "    <tr>\n",
       "      <th>1</th>\n",
       "      <td>I hate Time Warner! Soooo wish I had Vios. Can...</td>\n",
       "      <td>0</td>\n",
       "    </tr>\n",
       "    <tr>\n",
       "      <th>2</th>\n",
       "      <td>Tom Shanahan's latest column on SDSU and its N...</td>\n",
       "      <td>2</td>\n",
       "    </tr>\n",
       "    <tr>\n",
       "      <th>3</th>\n",
       "      <td>Found the self driving car!! /IWo3QSvdu2</td>\n",
       "      <td>2</td>\n",
       "    </tr>\n",
       "    <tr>\n",
       "      <th>4</th>\n",
       "      <td>@united arrived in YYZ to take our flight to T...</td>\n",
       "      <td>0</td>\n",
       "    </tr>\n",
       "  </tbody>\n",
       "</table>\n",
       "</div>"
      ],
      "text/plain": [
       "                                               tweet  senti\n",
       "0  @united UA5396 can wait for me. I'm on the gro...      0\n",
       "1  I hate Time Warner! Soooo wish I had Vios. Can...      0\n",
       "2  Tom Shanahan's latest column on SDSU and its N...      2\n",
       "3           Found the self driving car!! /IWo3QSvdu2      2\n",
       "4  @united arrived in YYZ to take our flight to T...      0"
      ]
     },
     "execution_count": 4,
     "metadata": {},
     "output_type": "execute_result"
    }
   ],
   "source": [
    "df_tweets_train = pd.read_csv('data/twitter-sentiment/twitter-sentiment-bowden-training.csv')\n",
    "\n",
    "# Print the first 5 lines\n",
    "df_tweets_train.head()"
   ]
  },
  {
   "cell_type": "markdown",
   "metadata": {},
   "source": [
    "### Preprocess training and test data"
   ]
  },
  {
   "cell_type": "code",
   "execution_count": 5,
   "metadata": {
    "collapsed": true
   },
   "outputs": [],
   "source": [
    "train_tweets = df_tweets_train['tweet']\n",
    "train_polarities = df_tweets_train['senti']\n",
    "\n",
    "train_tweets_processed = [''] * len(train_tweets)\n",
    "\n",
    "for idx, doc in enumerate(train_tweets):\n",
    "    train_tweets_processed[idx] = preprocess_text(doc, tokenizer=tweet_tokenizer, lemmatizer=wordnet_lemmatizer)"
   ]
  },
  {
   "cell_type": "code",
   "execution_count": 6,
   "metadata": {
    "collapsed": true
   },
   "outputs": [],
   "source": [
    "df_tweets_test = pd.read_csv('data/twitter-sentiment/twitter-sentiment-bowden-test.csv')\n",
    "\n",
    "test_tweets = df_tweets_test['tweet']\n",
    "test_polarities = df_tweets_test['senti']  \n",
    "\n",
    "test_tweets_processed = [''] * len(test_tweets)\n",
    "\n",
    "for idx, doc in enumerate(test_tweets):\n",
    "    test_tweets_processed[idx] = preprocess_text(doc, tokenizer=tweet_tokenizer, lemmatizer=wordnet_lemmatizer)  "
   ]
  },
  {
   "cell_type": "markdown",
   "metadata": {},
   "source": [
    "### Prepare labels"
   ]
  },
  {
   "cell_type": "code",
   "execution_count": 7,
   "metadata": {
    "collapsed": false
   },
   "outputs": [
    {
     "name": "stdout",
     "output_type": "stream",
     "text": [
      "[[1 0 0]\n",
      " [1 0 0]\n",
      " [1 0 0]\n",
      " [0 0 1]\n",
      " [1 0 0]\n",
      " [1 0 0]\n",
      " [0 0 1]\n",
      " [1 0 0]\n",
      " [0 0 1]\n",
      " [0 1 0]]\n"
     ]
    }
   ],
   "source": [
    "encoder = LabelBinarizer()\n",
    "encoder.fit(train_polarities)\n",
    "y_train = encoder.transform(train_polarities)\n",
    "y_test = encoder.transform(test_polarities)\n",
    "\n",
    "print(y_test[:10])"
   ]
  },
  {
   "cell_type": "markdown",
   "metadata": {},
   "source": [
    "### Calculate maximum sequence length \n",
    "\n",
    "Most neural networks assume inputs of the same size. Since we are using tweets here which are usually rather short, we can find the longest one (in terms of the number of words) and define its length as the maximum sequence length. In case of longer texts, e.g., reviews, the maximum sequence length is specified a priori to typically a couple of hundred."
   ]
  },
  {
   "cell_type": "code",
   "execution_count": 8,
   "metadata": {
    "collapsed": false
   },
   "outputs": [
    {
     "name": "stdout",
     "output_type": "stream",
     "text": [
      "Maximum sequence length: 29\n"
     ]
    }
   ],
   "source": [
    "longest_train_tweet = max([len(s.split()) for s in train_tweets_processed])\n",
    "longest_test_tweet = max([len(s.split()) for s in test_tweets_processed])\n",
    "\n",
    "max_seq_len = max(longest_train_tweet, longest_test_tweet)\n",
    "\n",
    "print(\"Maximum sequence length: {}\".format(max_seq_len))"
   ]
  },
  {
   "cell_type": "code",
   "execution_count": 9,
   "metadata": {
    "collapsed": true
   },
   "outputs": [],
   "source": [
    "tokenizer = Tokenizer(num_words=MAX_WORDS)\n",
    "tokenizer.fit_on_texts(train_tweets_processed)"
   ]
  },
  {
   "cell_type": "code",
   "execution_count": 10,
   "metadata": {
    "collapsed": false
   },
   "outputs": [
    {
     "name": "stdout",
     "output_type": "stream",
     "text": [
      "Found 2709 unique tokens.\n"
     ]
    }
   ],
   "source": [
    "word_index = tokenizer.word_index\n",
    "print('Found %s unique tokens.' % len(word_index))"
   ]
  },
  {
   "cell_type": "markdown",
   "metadata": {},
   "source": [
    "### Convert strings to sequences\n",
    "\n",
    "The `tokenizer.word_index` each word in the vocabulary to an index. The method `texts_to_sequences` now converts a string into a list of indexes representing the words in the string"
   ]
  },
  {
   "cell_type": "code",
   "execution_count": 11,
   "metadata": {
    "collapsed": false
   },
   "outputs": [
    {
     "name": "stdout",
     "output_type": "stream",
     "text": [
      "[4, 838, 50, 8, 498, 174, 6, 200, 337, 499, 500]\n",
      "Largest used index: 999\n"
     ]
    }
   ],
   "source": [
    "X_train = tokenizer.texts_to_sequences(train_tweets_processed)\n",
    "X_test = tokenizer.texts_to_sequences(test_tweets_processed)\n",
    "\n",
    "max_idx = max([ max(l) for l in X_train if len(l) > 0])\n",
    "\n",
    "print(X_train[0])\n",
    "print(\"Largest used index: {}\".format(max_idx)) # This should be (MAX_WORDS-1)\n"
   ]
  },
  {
   "cell_type": "markdown",
   "metadata": {},
   "source": [
    "### Sequence padding.\n",
    "\n",
    "We have to ensure that all inputs have the same length. Above, we calculated the maximum length being 29. That means, we have to \"pad\" all tweets that are shorter than that. Keras comes with a handy method for that. `padding='post'` specifies that the padding is done after the last wors. `truncating='post'` is not required in this example; it would cut of words from then end tweets that are too long (which cannot happen here)."
   ]
  },
  {
   "cell_type": "code",
   "execution_count": 12,
   "metadata": {
    "collapsed": false
   },
   "outputs": [
    {
     "name": "stdout",
     "output_type": "stream",
     "text": [
      "[  4 838  50   8 498 174   6 200 337 499 500   0   0   0   0   0   0   0\n",
      "   0   0   0   0   0   0   0   0   0   0   0]\n",
      "Sequence length: 29\n"
     ]
    }
   ],
   "source": [
    "X_train = pad_sequences(X_train, maxlen=max_seq_len, padding='post', truncating='post')\n",
    "X_test = pad_sequences(X_test, maxlen=max_seq_len, padding='post', truncating='post')\n",
    "\n",
    "print(X_train[0])\n",
    "print(\"Sequence length: {}\".format(len(X_train[0])))"
   ]
  },
  {
   "cell_type": "markdown",
   "metadata": {},
   "source": [
    "## Training the model (with word embeddings)"
   ]
  },
  {
   "cell_type": "markdown",
   "metadata": {},
   "source": [
    "### Define network model"
   ]
  },
  {
   "cell_type": "code",
   "execution_count": 13,
   "metadata": {
    "collapsed": false
   },
   "outputs": [
    {
     "name": "stdout",
     "output_type": "stream",
     "text": [
      "_________________________________________________________________\n",
      "Layer (type)                 Output Shape              Param #   \n",
      "=================================================================\n",
      "embedding_1 (Embedding)      (None, 29, 50)            50000     \n",
      "_________________________________________________________________\n",
      "bidirectional_1 (Bidirection (None, 64)                21248     \n",
      "_________________________________________________________________\n",
      "dense_1 (Dense)              (None, 128)               8320      \n",
      "_________________________________________________________________\n",
      "activation_1 (Activation)    (None, 128)               0         \n",
      "_________________________________________________________________\n",
      "dense_2 (Dense)              (None, 3)                 387       \n",
      "_________________________________________________________________\n",
      "activation_2 (Activation)    (None, 3)                 0         \n",
      "=================================================================\n",
      "Total params: 79,955\n",
      "Trainable params: 79,955\n",
      "Non-trainable params: 0\n",
      "_________________________________________________________________\n",
      "None\n"
     ]
    }
   ],
   "source": [
    "model = Sequential()\n",
    "\n",
    "model.add(Embedding(MAX_WORDS, EMBEDDING_DIM, input_length=max_seq_len))\n",
    "model.add(Bidirectional(LSTM(LSTM_HIDDEN_DIM)))\n",
    "model.add(Dense(128))\n",
    "model.add(Activation('relu'))\n",
    "#model.add(Dense(64)) # Optional\n",
    "#model.add(Activation('relu')) # Optional\n",
    "model.add(Dense(NUM_LABELS))\n",
    "model.add(Activation('softmax'))\n",
    "\n",
    "print(model.summary())"
   ]
  },
  {
   "cell_type": "markdown",
   "metadata": {},
   "source": [
    "### Compile model"
   ]
  },
  {
   "cell_type": "code",
   "execution_count": 14,
   "metadata": {
    "collapsed": true
   },
   "outputs": [],
   "source": [
    "model.compile(loss='categorical_crossentropy', optimizer='adam', metrics=['accuracy'])"
   ]
  },
  {
   "cell_type": "markdown",
   "metadata": {},
   "source": [
    "### Train model"
   ]
  },
  {
   "cell_type": "code",
   "execution_count": 15,
   "metadata": {
    "collapsed": false
   },
   "outputs": [
    {
     "name": "stdout",
     "output_type": "stream",
     "text": [
      "Train on 629 samples, validate on 70 samples\n",
      "Epoch 1/100\n",
      "629/629 [==============================] - 3s 5ms/step - loss: 1.0867 - acc: 0.3990 - val_loss: 1.0853 - val_acc: 0.4429\n",
      "Epoch 2/100\n",
      "629/629 [==============================] - 1s 1ms/step - loss: 1.0508 - acc: 0.4913 - val_loss: 1.0490 - val_acc: 0.5429\n",
      "Epoch 3/100\n",
      "629/629 [==============================] - 1s 1ms/step - loss: 0.9012 - acc: 0.6868 - val_loss: 0.9163 - val_acc: 0.5429\n",
      "Epoch 4/100\n",
      "629/629 [==============================] - 1s 1ms/step - loss: 0.5661 - acc: 0.7838 - val_loss: 0.7700 - val_acc: 0.6429\n",
      "Epoch 5/100\n",
      "629/629 [==============================] - 1s 1ms/step - loss: 0.3265 - acc: 0.8967 - val_loss: 0.8135 - val_acc: 0.6571\n",
      "Epoch 6/100\n",
      "629/629 [==============================] - 1s 1ms/step - loss: 0.1782 - acc: 0.9571 - val_loss: 0.9742 - val_acc: 0.7000\n",
      "Epoch 7/100\n",
      "629/629 [==============================] - 1s 1ms/step - loss: 0.1004 - acc: 0.9777 - val_loss: 1.0705 - val_acc: 0.7286\n",
      "Epoch 8/100\n",
      "629/629 [==============================] - 1s 1ms/step - loss: 0.0795 - acc: 0.9809 - val_loss: 1.1918 - val_acc: 0.6571\n",
      "Epoch 9/100\n",
      "629/629 [==============================] - 1s 998us/step - loss: 0.0411 - acc: 0.9936 - val_loss: 1.1270 - val_acc: 0.7143\n",
      "Epoch 10/100\n",
      "629/629 [==============================] - 1s 1ms/step - loss: 0.0239 - acc: 0.9984 - val_loss: 1.3113 - val_acc: 0.6857\n",
      "Epoch 11/100\n",
      "629/629 [==============================] - 1s 1ms/step - loss: 0.0205 - acc: 0.9968 - val_loss: 1.2983 - val_acc: 0.7000\n",
      "Epoch 12/100\n",
      "629/629 [==============================] - 1s 986us/step - loss: 0.0162 - acc: 0.9984 - val_loss: 1.4432 - val_acc: 0.6571\n",
      "Epoch 13/100\n",
      "629/629 [==============================] - 1s 986us/step - loss: 0.0162 - acc: 0.9952 - val_loss: 1.5581 - val_acc: 0.6571\n",
      "Epoch 14/100\n",
      "629/629 [==============================] - 1s 992us/step - loss: 0.0157 - acc: 0.9984 - val_loss: 1.7779 - val_acc: 0.6571\n",
      "Epoch 15/100\n",
      "629/629 [==============================] - 1s 986us/step - loss: 0.0099 - acc: 0.9984 - val_loss: 1.6025 - val_acc: 0.6571\n",
      "Epoch 16/100\n",
      "629/629 [==============================] - 1s 979us/step - loss: 0.0065 - acc: 0.9984 - val_loss: 1.4875 - val_acc: 0.6714\n",
      "Epoch 17/100\n",
      "629/629 [==============================] - 1s 986us/step - loss: 0.0050 - acc: 1.0000 - val_loss: 1.8913 - val_acc: 0.6571\n",
      "Epoch 18/100\n",
      "629/629 [==============================] - 1s 986us/step - loss: 0.0067 - acc: 0.9984 - val_loss: 1.7962 - val_acc: 0.6571\n",
      "Epoch 19/100\n",
      "629/629 [==============================] - 1s 986us/step - loss: 0.0077 - acc: 0.9984 - val_loss: 1.9228 - val_acc: 0.6429\n",
      "Epoch 20/100\n",
      "629/629 [==============================] - 1s 986us/step - loss: 0.0049 - acc: 0.9984 - val_loss: 1.6378 - val_acc: 0.6429\n",
      "Epoch 21/100\n",
      "629/629 [==============================] - 1s 979us/step - loss: 0.0024 - acc: 1.0000 - val_loss: 1.7359 - val_acc: 0.6286\n",
      "Epoch 22/100\n",
      "629/629 [==============================] - 1s 992us/step - loss: 0.0021 - acc: 1.0000 - val_loss: 1.8626 - val_acc: 0.6286\n",
      "Epoch 23/100\n",
      "629/629 [==============================] - 1s 967us/step - loss: 0.0020 - acc: 1.0000 - val_loss: 1.8573 - val_acc: 0.6286\n",
      "Epoch 24/100\n",
      "629/629 [==============================] - 1s 967us/step - loss: 0.0013 - acc: 1.0000 - val_loss: 1.9761 - val_acc: 0.6286\n",
      "Epoch 25/100\n",
      "629/629 [==============================] - 1s 960us/step - loss: 0.0013 - acc: 1.0000 - val_loss: 1.8082 - val_acc: 0.6714\n",
      "Epoch 26/100\n",
      "629/629 [==============================] - 1s 960us/step - loss: 0.0024 - acc: 1.0000 - val_loss: 1.8232 - val_acc: 0.6714\n",
      "Epoch 27/100\n",
      "629/629 [==============================] - 1s 960us/step - loss: 0.0016 - acc: 1.0000 - val_loss: 2.1672 - val_acc: 0.6429\n",
      "Epoch 28/100\n",
      "629/629 [==============================] - 1s 967us/step - loss: 0.0011 - acc: 1.0000 - val_loss: 1.9128 - val_acc: 0.6714\n",
      "Epoch 29/100\n",
      "629/629 [==============================] - 1s 1ms/step - loss: 9.3450e-04 - acc: 1.0000 - val_loss: 1.9431 - val_acc: 0.6714\n",
      "Epoch 30/100\n",
      "629/629 [==============================] - 1s 1ms/step - loss: 8.4248e-04 - acc: 1.0000 - val_loss: 2.0615 - val_acc: 0.6286\n",
      "Epoch 31/100\n",
      "629/629 [==============================] - 1s 1ms/step - loss: 6.3476e-04 - acc: 1.0000 - val_loss: 2.0332 - val_acc: 0.6429\n",
      "Epoch 32/100\n",
      "629/629 [==============================] - 1s 1ms/step - loss: 5.5952e-04 - acc: 1.0000 - val_loss: 2.0936 - val_acc: 0.6286\n",
      "Epoch 33/100\n",
      "629/629 [==============================] - 1s 967us/step - loss: 5.7342e-04 - acc: 1.0000 - val_loss: 2.0977 - val_acc: 0.6286\n",
      "Epoch 34/100\n",
      "629/629 [==============================] - 1s 973us/step - loss: 0.0013 - acc: 1.0000 - val_loss: 2.2568 - val_acc: 0.6286\n",
      "Epoch 35/100\n",
      "629/629 [==============================] - 1s 967us/step - loss: 9.8716e-04 - acc: 1.0000 - val_loss: 1.9263 - val_acc: 0.6714\n",
      "Epoch 36/100\n",
      "629/629 [==============================] - 1s 967us/step - loss: 0.0010 - acc: 1.0000 - val_loss: 2.1438 - val_acc: 0.6429\n",
      "Epoch 37/100\n",
      "629/629 [==============================] - 1s 954us/step - loss: 4.0924e-04 - acc: 1.0000 - val_loss: 2.0950 - val_acc: 0.6429\n",
      "Epoch 38/100\n",
      "629/629 [==============================] - 1s 954us/step - loss: 4.0361e-04 - acc: 1.0000 - val_loss: 2.1237 - val_acc: 0.6429\n",
      "Epoch 39/100\n",
      "629/629 [==============================] - 1s 973us/step - loss: 3.7478e-04 - acc: 1.0000 - val_loss: 2.1474 - val_acc: 0.6429\n",
      "Epoch 40/100\n",
      "629/629 [==============================] - 1s 986us/step - loss: 3.5302e-04 - acc: 1.0000 - val_loss: 2.1888 - val_acc: 0.6429\n",
      "Epoch 41/100\n",
      "629/629 [==============================] - 1s 979us/step - loss: 3.5024e-04 - acc: 1.0000 - val_loss: 2.1946 - val_acc: 0.6429\n",
      "Epoch 42/100\n",
      "629/629 [==============================] - 1s 979us/step - loss: 3.0284e-04 - acc: 1.0000 - val_loss: 2.1724 - val_acc: 0.6429\n",
      "Epoch 43/100\n",
      "629/629 [==============================] - 1s 967us/step - loss: 2.9749e-04 - acc: 1.0000 - val_loss: 2.2163 - val_acc: 0.6429\n",
      "Epoch 44/100\n",
      "629/629 [==============================] - 1s 979us/step - loss: 2.7916e-04 - acc: 1.0000 - val_loss: 2.2035 - val_acc: 0.6429\n",
      "Epoch 45/100\n",
      "629/629 [==============================] - 1s 973us/step - loss: 2.4884e-04 - acc: 1.0000 - val_loss: 2.2326 - val_acc: 0.6429\n",
      "Epoch 46/100\n",
      "629/629 [==============================] - 1s 979us/step - loss: 2.6752e-04 - acc: 1.0000 - val_loss: 2.2384 - val_acc: 0.6429\n",
      "Epoch 47/100\n",
      "629/629 [==============================] - 1s 967us/step - loss: 3.3240e-04 - acc: 1.0000 - val_loss: 2.2956 - val_acc: 0.6429\n",
      "Epoch 48/100\n",
      "629/629 [==============================] - 1s 979us/step - loss: 2.9557e-04 - acc: 1.0000 - val_loss: 2.2540 - val_acc: 0.6429\n",
      "Epoch 49/100\n",
      "629/629 [==============================] - 1s 960us/step - loss: 2.1670e-04 - acc: 1.0000 - val_loss: 2.2655 - val_acc: 0.6429\n",
      "Epoch 50/100\n",
      "629/629 [==============================] - 1s 973us/step - loss: 2.1548e-04 - acc: 1.0000 - val_loss: 2.2804 - val_acc: 0.6571\n",
      "Epoch 51/100\n",
      "629/629 [==============================] - 1s 986us/step - loss: 2.1737e-04 - acc: 1.0000 - val_loss: 2.2987 - val_acc: 0.6429\n",
      "Epoch 52/100\n",
      "629/629 [==============================] - 1s 973us/step - loss: 2.6134e-04 - acc: 1.0000 - val_loss: 2.2860 - val_acc: 0.6429\n",
      "Epoch 53/100\n",
      "629/629 [==============================] - 1s 973us/step - loss: 2.3443e-04 - acc: 1.0000 - val_loss: 2.3150 - val_acc: 0.6429\n",
      "Epoch 54/100\n",
      "629/629 [==============================] - 1s 973us/step - loss: 1.6384e-04 - acc: 1.0000 - val_loss: 2.3329 - val_acc: 0.6429\n",
      "Epoch 55/100\n",
      "629/629 [==============================] - 1s 967us/step - loss: 1.7337e-04 - acc: 1.0000 - val_loss: 2.3396 - val_acc: 0.6429\n",
      "Epoch 56/100\n",
      "629/629 [==============================] - 1s 967us/step - loss: 1.5135e-04 - acc: 1.0000 - val_loss: 2.3616 - val_acc: 0.6429\n",
      "Epoch 57/100\n",
      "629/629 [==============================] - 1s 967us/step - loss: 1.5254e-04 - acc: 1.0000 - val_loss: 2.3668 - val_acc: 0.6429\n",
      "Epoch 58/100\n",
      "629/629 [==============================] - 1s 960us/step - loss: 1.4368e-04 - acc: 1.0000 - val_loss: 2.3607 - val_acc: 0.6571\n",
      "Epoch 59/100\n",
      "629/629 [==============================] - 1s 1ms/step - loss: 1.3860e-04 - acc: 1.0000 - val_loss: 2.3905 - val_acc: 0.6429\n",
      "Epoch 60/100\n",
      "629/629 [==============================] - 1s 986us/step - loss: 1.3357e-04 - acc: 1.0000 - val_loss: 2.4026 - val_acc: 0.6429\n",
      "Epoch 61/100\n",
      "629/629 [==============================] - 1s 986us/step - loss: 1.3166e-04 - acc: 1.0000 - val_loss: 2.3891 - val_acc: 0.6429\n",
      "Epoch 62/100\n",
      "629/629 [==============================] - 1s 973us/step - loss: 1.3090e-04 - acc: 1.0000 - val_loss: 2.4164 - val_acc: 0.6429\n",
      "Epoch 63/100\n",
      "629/629 [==============================] - 1s 986us/step - loss: 1.1666e-04 - acc: 1.0000 - val_loss: 2.4239 - val_acc: 0.6429\n",
      "Epoch 64/100\n",
      "629/629 [==============================] - 1s 986us/step - loss: 1.1102e-04 - acc: 1.0000 - val_loss: 2.4314 - val_acc: 0.6429\n",
      "Epoch 65/100\n",
      "629/629 [==============================] - 1s 960us/step - loss: 1.1119e-04 - acc: 1.0000 - val_loss: 2.4251 - val_acc: 0.6429\n",
      "Epoch 66/100\n",
      "629/629 [==============================] - 1s 979us/step - loss: 1.0943e-04 - acc: 1.0000 - val_loss: 2.4502 - val_acc: 0.6429\n",
      "Epoch 67/100\n",
      "629/629 [==============================] - 1s 967us/step - loss: 1.0339e-04 - acc: 1.0000 - val_loss: 2.4514 - val_acc: 0.6429\n",
      "Epoch 68/100\n",
      "629/629 [==============================] - 1s 973us/step - loss: 1.1541e-04 - acc: 1.0000 - val_loss: 2.4611 - val_acc: 0.6429\n",
      "Epoch 69/100\n",
      "629/629 [==============================] - 1s 973us/step - loss: 1.0983e-04 - acc: 1.0000 - val_loss: 2.4721 - val_acc: 0.6429\n",
      "Epoch 70/100\n",
      "629/629 [==============================] - 1s 973us/step - loss: 9.8555e-05 - acc: 1.0000 - val_loss: 2.5009 - val_acc: 0.6429\n",
      "Epoch 71/100\n",
      "629/629 [==============================] - 1s 973us/step - loss: 9.8430e-05 - acc: 1.0000 - val_loss: 2.4600 - val_acc: 0.6571\n",
      "Epoch 72/100\n",
      "629/629 [==============================] - 1s 967us/step - loss: 8.6471e-05 - acc: 1.0000 - val_loss: 2.4916 - val_acc: 0.6429\n",
      "Epoch 73/100\n",
      "629/629 [==============================] - 1s 967us/step - loss: 8.9241e-05 - acc: 1.0000 - val_loss: 2.5023 - val_acc: 0.6429\n",
      "Epoch 74/100\n",
      "629/629 [==============================] - 1s 960us/step - loss: 9.7685e-05 - acc: 1.0000 - val_loss: 2.5059 - val_acc: 0.6429\n",
      "Epoch 75/100\n",
      "629/629 [==============================] - 1s 998us/step - loss: 8.8945e-05 - acc: 1.0000 - val_loss: 2.5374 - val_acc: 0.6429\n",
      "Epoch 76/100\n",
      "629/629 [==============================] - 1s 967us/step - loss: 7.3987e-05 - acc: 1.0000 - val_loss: 2.4983 - val_acc: 0.6571\n",
      "Epoch 77/100\n",
      "629/629 [==============================] - 1s 960us/step - loss: 8.1456e-05 - acc: 1.0000 - val_loss: 2.5301 - val_acc: 0.6429\n",
      "Epoch 78/100\n",
      "629/629 [==============================] - 1s 973us/step - loss: 7.2129e-05 - acc: 1.0000 - val_loss: 2.5357 - val_acc: 0.6429\n",
      "Epoch 79/100\n",
      "629/629 [==============================] - 1s 967us/step - loss: 7.9680e-05 - acc: 1.0000 - val_loss: 2.5331 - val_acc: 0.6429\n",
      "Epoch 80/100\n",
      "629/629 [==============================] - 1s 967us/step - loss: 7.0405e-05 - acc: 1.0000 - val_loss: 2.5356 - val_acc: 0.6429\n",
      "Epoch 81/100\n",
      "629/629 [==============================] - 1s 960us/step - loss: 7.7612e-05 - acc: 1.0000 - val_loss: 2.5563 - val_acc: 0.6429\n",
      "Epoch 82/100\n",
      "629/629 [==============================] - 1s 967us/step - loss: 7.7583e-05 - acc: 1.0000 - val_loss: 2.5497 - val_acc: 0.6571\n",
      "Epoch 83/100\n",
      "629/629 [==============================] - 1s 979us/step - loss: 9.4749e-05 - acc: 1.0000 - val_loss: 2.6098 - val_acc: 0.6429\n",
      "Epoch 84/100\n",
      "629/629 [==============================] - 1s 1ms/step - loss: 9.4443e-05 - acc: 1.0000 - val_loss: 2.5236 - val_acc: 0.6571\n",
      "Epoch 85/100\n",
      "629/629 [==============================] - 1s 967us/step - loss: 6.1780e-05 - acc: 1.0000 - val_loss: 2.6236 - val_acc: 0.6429\n",
      "Epoch 86/100\n",
      "629/629 [==============================] - 1s 960us/step - loss: 6.2968e-05 - acc: 1.0000 - val_loss: 2.5852 - val_acc: 0.6429\n",
      "Epoch 87/100\n",
      "629/629 [==============================] - 1s 967us/step - loss: 5.7480e-05 - acc: 1.0000 - val_loss: 2.5683 - val_acc: 0.6429\n",
      "Epoch 88/100\n",
      "629/629 [==============================] - 1s 967us/step - loss: 5.7413e-05 - acc: 1.0000 - val_loss: 2.5965 - val_acc: 0.6429\n",
      "Epoch 89/100\n",
      "629/629 [==============================] - 1s 967us/step - loss: 5.1849e-05 - acc: 1.0000 - val_loss: 2.6194 - val_acc: 0.6429\n",
      "Epoch 90/100\n",
      "629/629 [==============================] - 1s 960us/step - loss: 5.1525e-05 - acc: 1.0000 - val_loss: 2.6109 - val_acc: 0.6429\n",
      "Epoch 91/100\n",
      "629/629 [==============================] - 1s 967us/step - loss: 4.9513e-05 - acc: 1.0000 - val_loss: 2.6118 - val_acc: 0.6429\n",
      "Epoch 92/100\n",
      "629/629 [==============================] - 1s 967us/step - loss: 5.6550e-05 - acc: 1.0000 - val_loss: 2.6239 - val_acc: 0.6429\n",
      "Epoch 93/100\n",
      "629/629 [==============================] - 1s 973us/step - loss: 5.1406e-05 - acc: 1.0000 - val_loss: 2.6163 - val_acc: 0.6429\n",
      "Epoch 94/100\n",
      "629/629 [==============================] - 1s 979us/step - loss: 4.9352e-05 - acc: 1.0000 - val_loss: 2.6635 - val_acc: 0.6429\n",
      "Epoch 95/100\n",
      "629/629 [==============================] - 1s 967us/step - loss: 5.0526e-05 - acc: 1.0000 - val_loss: 2.6411 - val_acc: 0.6429\n",
      "Epoch 96/100\n",
      "629/629 [==============================] - 1s 973us/step - loss: 4.4682e-05 - acc: 1.0000 - val_loss: 2.6584 - val_acc: 0.6429\n",
      "Epoch 97/100\n",
      "629/629 [==============================] - 1s 1ms/step - loss: 4.2971e-05 - acc: 1.0000 - val_loss: 2.6599 - val_acc: 0.6429\n",
      "Epoch 98/100\n",
      "629/629 [==============================] - 1s 979us/step - loss: 4.1395e-05 - acc: 1.0000 - val_loss: 2.6664 - val_acc: 0.6429\n",
      "Epoch 99/100\n",
      "629/629 [==============================] - 1s 973us/step - loss: 4.2185e-05 - acc: 1.0000 - val_loss: 2.6595 - val_acc: 0.6429\n",
      "Epoch 100/100\n",
      "629/629 [==============================] - 1s 967us/step - loss: 4.0512e-05 - acc: 1.0000 - val_loss: 2.7017 - val_acc: 0.6429\n"
     ]
    }
   ],
   "source": [
    "history = model.fit(X_train, y_train, batch_size=32, epochs=100, verbose=1, validation_split=0.1)"
   ]
  },
  {
   "cell_type": "markdown",
   "metadata": {},
   "source": [
    "### Evaluate model"
   ]
  },
  {
   "cell_type": "code",
   "execution_count": 16,
   "metadata": {
    "collapsed": false
   },
   "outputs": [
    {
     "name": "stdout",
     "output_type": "stream",
     "text": [
      "298/298 [==============================] - 0s 215us/step\n",
      "Test score: 2.4030683824679997\n",
      "Test accuracy: 0.7013422814791634\n"
     ]
    }
   ],
   "source": [
    "score = model.evaluate(X_test, y_test, batch_size=32, verbose=1)\n",
    "print('Test score:', score[0])\n",
    "print('Test accuracy:', score[1])"
   ]
  },
  {
   "cell_type": "code",
   "execution_count": null,
   "metadata": {
    "collapsed": true
   },
   "outputs": [],
   "source": []
  }
 ],
 "metadata": {
  "anaconda-cloud": {},
  "kernelspec": {
   "display_name": "Python [conda root]",
   "language": "python",
   "name": "conda-root-py"
  },
  "language_info": {
   "codemirror_mode": {
    "name": "ipython",
    "version": 3
   },
   "file_extension": ".py",
   "mimetype": "text/x-python",
   "name": "python",
   "nbconvert_exporter": "python",
   "pygments_lexer": "ipython3",
   "version": "3.5.2"
  }
 },
 "nbformat": 4,
 "nbformat_minor": 1
}
