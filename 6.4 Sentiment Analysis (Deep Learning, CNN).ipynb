{
 "cells": [
  {
   "cell_type": "markdown",
   "metadata": {},
   "source": [
    "# Sentiment Analysis (Deep Learning, CNN)\n",
    "\n",
    "In this tutorial, we perform sentiment analysis using deep learning, where we use a basic Convolutional Neural Network (CNN) network structure."
   ]
  },
  {
   "cell_type": "markdown",
   "metadata": {},
   "source": [
    "## Import required packages"
   ]
  },
  {
   "cell_type": "code",
   "execution_count": 2,
   "metadata": {
    "collapsed": false
   },
   "outputs": [],
   "source": [
    "import os\n",
    "import numpy as np\n",
    "import pandas as pd\n",
    "import csv\n",
    "\n",
    "from keras.preprocessing.text import Tokenizer\n",
    "from keras.preprocessing.sequence import pad_sequences\n",
    "from keras.models import Sequential\n",
    "from keras.layers import Dense, Activation, Conv1D, MaxPooling1D, Flatten, Embedding\n",
    "\n",
    "from sklearn.preprocessing import LabelBinarizer\n",
    "\n",
    "# The next imports are only needed for the preprocessing\n",
    "from nltk.tokenize import TweetTokenizer\n",
    "from nltk.stem import WordNetLemmatizer\n",
    "from utils.nlputil import preprocess_text"
   ]
  },
  {
   "cell_type": "markdown",
   "metadata": {},
   "source": [
    "We need a tokenizer and a lemmatizer for the preprocessing"
   ]
  },
  {
   "cell_type": "code",
   "execution_count": 3,
   "metadata": {
    "collapsed": true
   },
   "outputs": [],
   "source": [
    "tweet_tokenizer = TweetTokenizer()\n",
    "wordnet_lemmatizer = WordNetLemmatizer()"
   ]
  },
  {
   "cell_type": "markdown",
   "metadata": {},
   "source": [
    "Let's also define a set of parameters we need for later"
   ]
  },
  {
   "cell_type": "code",
   "execution_count": 4,
   "metadata": {
    "collapsed": true
   },
   "outputs": [],
   "source": [
    "NUM_LABELS = 3       # We have 3 polarity classes\n",
    "MAX_WORDS = 1000     # We only consider the 1,000 most frequent terms\n",
    "EMBEDDING_DIM = 50   # Size of the word vectors"
   ]
  },
  {
   "cell_type": "markdown",
   "metadata": {},
   "source": [
    "## Date preparation"
   ]
  },
  {
   "cell_type": "markdown",
   "metadata": {},
   "source": [
    "### Load data from files"
   ]
  },
  {
   "cell_type": "code",
   "execution_count": 5,
   "metadata": {
    "collapsed": false
   },
   "outputs": [
    {
     "data": {
      "text/html": [
       "<div>\n",
       "<table border=\"1\" class=\"dataframe\">\n",
       "  <thead>\n",
       "    <tr style=\"text-align: right;\">\n",
       "      <th></th>\n",
       "      <th>tweet</th>\n",
       "      <th>senti</th>\n",
       "    </tr>\n",
       "  </thead>\n",
       "  <tbody>\n",
       "    <tr>\n",
       "      <th>0</th>\n",
       "      <td>@united UA5396 can wait for me. I'm on the gro...</td>\n",
       "      <td>0</td>\n",
       "    </tr>\n",
       "    <tr>\n",
       "      <th>1</th>\n",
       "      <td>I hate Time Warner! Soooo wish I had Vios. Can...</td>\n",
       "      <td>0</td>\n",
       "    </tr>\n",
       "    <tr>\n",
       "      <th>2</th>\n",
       "      <td>Tom Shanahan's latest column on SDSU and its N...</td>\n",
       "      <td>2</td>\n",
       "    </tr>\n",
       "    <tr>\n",
       "      <th>3</th>\n",
       "      <td>Found the self driving car!! /IWo3QSvdu2</td>\n",
       "      <td>2</td>\n",
       "    </tr>\n",
       "    <tr>\n",
       "      <th>4</th>\n",
       "      <td>@united arrived in YYZ to take our flight to T...</td>\n",
       "      <td>0</td>\n",
       "    </tr>\n",
       "  </tbody>\n",
       "</table>\n",
       "</div>"
      ],
      "text/plain": [
       "                                               tweet  senti\n",
       "0  @united UA5396 can wait for me. I'm on the gro...      0\n",
       "1  I hate Time Warner! Soooo wish I had Vios. Can...      0\n",
       "2  Tom Shanahan's latest column on SDSU and its N...      2\n",
       "3           Found the self driving car!! /IWo3QSvdu2      2\n",
       "4  @united arrived in YYZ to take our flight to T...      0"
      ]
     },
     "execution_count": 5,
     "metadata": {},
     "output_type": "execute_result"
    }
   ],
   "source": [
    "df_tweets_train = pd.read_csv('data/twitter-sentiment/twitter-sentiment-bowden-training.csv')\n",
    "\n",
    "# Print the first 5 lines\n",
    "df_tweets_train.head()"
   ]
  },
  {
   "cell_type": "markdown",
   "metadata": {},
   "source": [
    "### Preprocess training and test data"
   ]
  },
  {
   "cell_type": "code",
   "execution_count": 6,
   "metadata": {
    "collapsed": true
   },
   "outputs": [],
   "source": [
    "train_tweets = df_tweets_train['tweet']\n",
    "train_polarities = df_tweets_train['senti']\n",
    "\n",
    "train_tweets_processed = [''] * len(train_tweets)\n",
    "\n",
    "for idx, doc in enumerate(train_tweets):\n",
    "    train_tweets_processed[idx] = preprocess_text(doc, tokenizer=tweet_tokenizer, lemmatizer=wordnet_lemmatizer)"
   ]
  },
  {
   "cell_type": "code",
   "execution_count": 7,
   "metadata": {
    "collapsed": true
   },
   "outputs": [],
   "source": [
    "df_tweets_test = pd.read_csv('data/twitter-sentiment/twitter-sentiment-bowden-test.csv')\n",
    "\n",
    "test_tweets = df_tweets_test['tweet']\n",
    "test_polarities = df_tweets_test['senti']  \n",
    "\n",
    "test_tweets_processed = [''] * len(test_tweets)\n",
    "\n",
    "for idx, doc in enumerate(test_tweets):\n",
    "    test_tweets_processed[idx] = preprocess_text(doc, tokenizer=tweet_tokenizer, lemmatizer=wordnet_lemmatizer)  "
   ]
  },
  {
   "cell_type": "markdown",
   "metadata": {},
   "source": [
    "### Prepare labels"
   ]
  },
  {
   "cell_type": "code",
   "execution_count": 8,
   "metadata": {
    "collapsed": false
   },
   "outputs": [
    {
     "name": "stdout",
     "output_type": "stream",
     "text": [
      "[[1 0 0]\n",
      " [1 0 0]\n",
      " [1 0 0]\n",
      " [0 0 1]\n",
      " [1 0 0]\n",
      " [1 0 0]\n",
      " [0 0 1]\n",
      " [1 0 0]\n",
      " [0 0 1]\n",
      " [0 1 0]]\n"
     ]
    }
   ],
   "source": [
    "encoder = LabelBinarizer()\n",
    "encoder.fit(train_polarities)\n",
    "y_train = encoder.transform(train_polarities)\n",
    "y_test = encoder.transform(test_polarities)\n",
    "\n",
    "print(y_test[:10])"
   ]
  },
  {
   "cell_type": "markdown",
   "metadata": {},
   "source": [
    "### Calculate maximum sequence length \n",
    "\n",
    "Most neural networks assume inputs of the same size. Since we are using tweets here which are usually rather short, we can find the longest one (in terms of the number of words) and define its length as the maximum sequence length. In case of longer texts, e.g., reviews, the maximum sequence length is specified a priori to typically a couple of hundred."
   ]
  },
  {
   "cell_type": "code",
   "execution_count": 9,
   "metadata": {
    "collapsed": false
   },
   "outputs": [
    {
     "name": "stdout",
     "output_type": "stream",
     "text": [
      "Maximum sequence length: 29\n"
     ]
    }
   ],
   "source": [
    "longest_train_tweet = max([len(s.split()) for s in train_tweets_processed])\n",
    "longest_test_tweet = max([len(s.split()) for s in test_tweets_processed])\n",
    "\n",
    "max_seq_len = max(longest_train_tweet, longest_test_tweet)\n",
    "\n",
    "print(\"Maximum sequence length: {}\".format(max_seq_len))"
   ]
  },
  {
   "cell_type": "code",
   "execution_count": 10,
   "metadata": {
    "collapsed": true
   },
   "outputs": [],
   "source": [
    "tokenizer = Tokenizer(num_words=MAX_WORDS)\n",
    "tokenizer.fit_on_texts(train_tweets_processed)"
   ]
  },
  {
   "cell_type": "code",
   "execution_count": 11,
   "metadata": {
    "collapsed": false
   },
   "outputs": [
    {
     "name": "stdout",
     "output_type": "stream",
     "text": [
      "Found 2709 unique tokens.\n"
     ]
    }
   ],
   "source": [
    "word_index = tokenizer.word_index\n",
    "print('Found %s unique tokens.' % len(word_index))"
   ]
  },
  {
   "cell_type": "markdown",
   "metadata": {},
   "source": [
    "### Convert strings to sequences\n",
    "\n",
    "The `tokenizer.word_index` each word in the vocabulary to an index. The method `texts_to_sequences` now converts a string into a list of indexes representing the words in the string"
   ]
  },
  {
   "cell_type": "code",
   "execution_count": 12,
   "metadata": {
    "collapsed": false
   },
   "outputs": [
    {
     "name": "stdout",
     "output_type": "stream",
     "text": [
      "[4, 838, 50, 8, 498, 174, 6, 200, 337, 499, 500]\n",
      "Largest used index: 999\n"
     ]
    }
   ],
   "source": [
    "X_train = tokenizer.texts_to_sequences(train_tweets_processed)\n",
    "X_test = tokenizer.texts_to_sequences(test_tweets_processed)\n",
    "\n",
    "max_idx = max([ max(l) for l in X_train if len(l) > 0])\n",
    "\n",
    "print(X_train[0])\n",
    "print(\"Largest used index: {}\".format(max_idx)) # This should be (MAX_WORDS-1)\n"
   ]
  },
  {
   "cell_type": "markdown",
   "metadata": {},
   "source": [
    "### Sequence padding.\n",
    "\n",
    "We have to ensure that all inputs have the same length. Above, we calculated the maximum length being 29. That means, we have to \"pad\" all tweets that are shorter than that. Keras comes with a handy method for that. `padding='post'` specifies that the padding is done after the last wors. `truncating='post'` is not required in this example; it would cut of words from then end tweets that are too long (which cannot happen here)."
   ]
  },
  {
   "cell_type": "code",
   "execution_count": 13,
   "metadata": {
    "collapsed": false
   },
   "outputs": [
    {
     "name": "stdout",
     "output_type": "stream",
     "text": [
      "[  4 838  50   8 498 174   6 200 337 499 500   0   0   0   0   0   0   0\n",
      "   0   0   0   0   0   0   0   0   0   0   0]\n",
      "Sequence length: 29\n"
     ]
    }
   ],
   "source": [
    "X_train = pad_sequences(X_train, maxlen=max_seq_len, padding='post', truncating='post')\n",
    "X_test = pad_sequences(X_test, maxlen=max_seq_len, padding='post', truncating='post')\n",
    "\n",
    "print(X_train[0])\n",
    "print(\"Sequence length: {}\".format(len(X_train[0])))"
   ]
  },
  {
   "cell_type": "markdown",
   "metadata": {},
   "source": [
    "## Training the model (without word embeddings)"
   ]
  },
  {
   "cell_type": "markdown",
   "metadata": {},
   "source": [
    "### Using \"raw\" sequences\n",
    "\n",
    "Technically, we can train the network on the word indexes (e.g., `[  4 846  52   8 506 178   6 204 344 507 508   0   0 ...]`) without vecorizing the words. However, as you will see, the performance will be very poor."
   ]
  },
  {
   "cell_type": "code",
   "execution_count": 14,
   "metadata": {
    "collapsed": true
   },
   "outputs": [],
   "source": [
    "X_train_raw = np.expand_dims(X_train, axis=2)\n",
    "X_test_raw = np.expand_dims(X_test, axis=2)"
   ]
  },
  {
   "cell_type": "code",
   "execution_count": 15,
   "metadata": {
    "collapsed": false
   },
   "outputs": [
    {
     "name": "stdout",
     "output_type": "stream",
     "text": [
      "WARNING:tensorflow:From C:\\Users\\edward chen\\Anaconda3\\lib\\site-packages\\tensorflow\\python\\util\\deprecation.py:497: calling conv1d (from tensorflow.python.ops.nn_ops) with data_format=NHWC is deprecated and will be removed in a future version.\n",
      "Instructions for updating:\n",
      "`NHWC` for data_format is deprecated, use `NWC` instead\n",
      "_________________________________________________________________\n",
      "Layer (type)                 Output Shape              Param #   \n",
      "=================================================================\n",
      "conv1d_1 (Conv1D)            (None, 25, 128)           768       \n",
      "_________________________________________________________________\n",
      "flatten_1 (Flatten)          (None, 3200)              0         \n",
      "_________________________________________________________________\n",
      "dense_1 (Dense)              (None, 128)               409728    \n",
      "_________________________________________________________________\n",
      "activation_1 (Activation)    (None, 128)               0         \n",
      "_________________________________________________________________\n",
      "dense_2 (Dense)              (None, 64)                8256      \n",
      "_________________________________________________________________\n",
      "activation_2 (Activation)    (None, 64)                0         \n",
      "_________________________________________________________________\n",
      "dense_3 (Dense)              (None, 3)                 195       \n",
      "_________________________________________________________________\n",
      "activation_3 (Activation)    (None, 3)                 0         \n",
      "=================================================================\n",
      "Total params: 418,947\n",
      "Trainable params: 418,947\n",
      "Non-trainable params: 0\n",
      "_________________________________________________________________\n",
      "None\n"
     ]
    }
   ],
   "source": [
    "model_raw = Sequential()\n",
    "model_raw.add(Conv1D(128, 5, activation='relu', input_shape=(max_seq_len, 1)))\n",
    "#model_raw.add(MaxPooling1D(5))\n",
    "model_raw.add(Flatten())\n",
    "model_raw.add(Dense(128))\n",
    "model_raw.add(Activation('relu'))\n",
    "model_raw.add(Dense(64)) \n",
    "model_raw.add(Activation('relu'))\n",
    "model_raw.add(Dense(NUM_LABELS))\n",
    "model_raw.add(Activation('softmax'))\n",
    "\n",
    "print(model_raw.summary())"
   ]
  },
  {
   "cell_type": "code",
   "execution_count": 16,
   "metadata": {
    "collapsed": true
   },
   "outputs": [],
   "source": [
    "model_raw.compile(loss='categorical_crossentropy', optimizer='adam', metrics=['accuracy'])"
   ]
  },
  {
   "cell_type": "code",
   "execution_count": 17,
   "metadata": {
    "collapsed": false
   },
   "outputs": [
    {
     "name": "stdout",
     "output_type": "stream",
     "text": [
      "Train on 629 samples, validate on 70 samples\n",
      "Epoch 1/20\n",
      "629/629 [==============================] - 1s 2ms/step - loss: 7.2795 - acc: 0.3339 - val_loss: 5.4795 - val_acc: 0.3714\n",
      "Epoch 2/20\n",
      "629/629 [==============================] - 0s 490us/step - loss: 5.5214 - acc: 0.3768 - val_loss: 4.6926 - val_acc: 0.3857\n",
      "Epoch 3/20\n",
      "629/629 [==============================] - 0s 478us/step - loss: 4.3461 - acc: 0.4197 - val_loss: 4.8271 - val_acc: 0.3571\n",
      "Epoch 4/20\n",
      "629/629 [==============================] - 0s 501us/step - loss: 3.6789 - acc: 0.3879 - val_loss: 3.6972 - val_acc: 0.3143\n",
      "Epoch 5/20\n",
      "629/629 [==============================] - 0s 544us/step - loss: 3.1459 - acc: 0.4324 - val_loss: 3.2889 - val_acc: 0.2714\n",
      "Epoch 6/20\n",
      "629/629 [==============================] - 0s 507us/step - loss: 2.7544 - acc: 0.4086 - val_loss: 2.5431 - val_acc: 0.3857\n",
      "Epoch 7/20\n",
      "629/629 [==============================] - 0s 574us/step - loss: 2.0775 - acc: 0.4293 - val_loss: 1.7415 - val_acc: 0.2429\n",
      "Epoch 8/20\n",
      "629/629 [==============================] - 0s 587us/step - loss: 1.5637 - acc: 0.4722 - val_loss: 1.5553 - val_acc: 0.3286\n",
      "Epoch 9/20\n",
      "629/629 [==============================] - 0s 550us/step - loss: 1.3776 - acc: 0.5199 - val_loss: 1.6294 - val_acc: 0.3714\n",
      "Epoch 10/20\n",
      "629/629 [==============================] - 0s 499us/step - loss: 1.2845 - acc: 0.5564 - val_loss: 1.4348 - val_acc: 0.3286\n",
      "Epoch 11/20\n",
      "629/629 [==============================] - 0s 523us/step - loss: 1.0948 - acc: 0.5374 - val_loss: 1.3812 - val_acc: 0.3429\n",
      "Epoch 12/20\n",
      "629/629 [==============================] - 0s 544us/step - loss: 0.9930 - acc: 0.5739 - val_loss: 1.4537 - val_acc: 0.3143\n",
      "Epoch 13/20\n",
      "629/629 [==============================] - 0s 555us/step - loss: 0.9315 - acc: 0.5962 - val_loss: 1.5021 - val_acc: 0.3429\n",
      "Epoch 14/20\n",
      "629/629 [==============================] - 0s 545us/step - loss: 0.8786 - acc: 0.6169 - val_loss: 1.4672 - val_acc: 0.3571\n",
      "Epoch 15/20\n",
      "629/629 [==============================] - 0s 565us/step - loss: 0.8273 - acc: 0.6502 - val_loss: 1.5364 - val_acc: 0.3000\n",
      "Epoch 16/20\n",
      "629/629 [==============================] - 0s 552us/step - loss: 0.7755 - acc: 0.6677 - val_loss: 1.6010 - val_acc: 0.3857\n",
      "Epoch 17/20\n",
      "629/629 [==============================] - 0s 600us/step - loss: 0.7524 - acc: 0.6709 - val_loss: 1.5812 - val_acc: 0.3000\n",
      "Epoch 18/20\n",
      "629/629 [==============================] - 0s 635us/step - loss: 0.7209 - acc: 0.6948 - val_loss: 1.6275 - val_acc: 0.3143\n",
      "Epoch 19/20\n",
      "629/629 [==============================] - 0s 667us/step - loss: 0.7166 - acc: 0.6963 - val_loss: 1.6902 - val_acc: 0.3429\n",
      "Epoch 20/20\n",
      "629/629 [==============================] - 0s 660us/step - loss: 0.6934 - acc: 0.7202 - val_loss: 1.8101 - val_acc: 0.3571\n"
     ]
    }
   ],
   "source": [
    "history_raw = model_raw.fit(X_train_raw, y_train, batch_size=32, epochs=20, verbose=1, validation_split=0.1)"
   ]
  },
  {
   "cell_type": "code",
   "execution_count": 18,
   "metadata": {
    "collapsed": false
   },
   "outputs": [
    {
     "name": "stdout",
     "output_type": "stream",
     "text": [
      "298/298 [==============================] - 0s 101us/step\n",
      "Test score: 1.420248966089031\n",
      "Test accuracy: 0.39932885906040266\n"
     ]
    }
   ],
   "source": [
    "score_raw = model_raw.evaluate(X_test_raw, y_test, batch_size=32, verbose=1)\n",
    "print('Test score:', score_raw[0])\n",
    "print('Test accuracy:', score_raw[1])"
   ]
  },
  {
   "cell_type": "markdown",
   "metadata": {},
   "source": [
    "### Using one-hot word vectors\n",
    "\n",
    "Here, we vectorize each word by converting them into one-hot vectors. Each vector has the length 1,000 (as size of the vocabulary, the 1,000 most frequent words).\n",
    "\n",
    "Instead of using the `Tokenizer` class of Keras, we do the conversion manually for illustration."
   ]
  },
  {
   "cell_type": "code",
   "execution_count": 19,
   "metadata": {
    "collapsed": true
   },
   "outputs": [],
   "source": [
    "def convert_to_word_onehot(X):\n",
    "    X_onehot = np.empty(shape=(X.shape[0], X.shape[1], MAX_WORDS))\n",
    "    for seq_idx, seq in enumerate(X):\n",
    "        for word_idx, word in enumerate(seq):\n",
    "            if word > 0:\n",
    "                X_onehot[seq_idx, word_idx, word] = 1\n",
    "    return X_onehot\n",
    "        \n",
    "X_train_onehot = convert_to_word_onehot(X_train)  \n",
    "X_test_onehot = convert_to_word_onehot(X_test)  "
   ]
  },
  {
   "cell_type": "code",
   "execution_count": 20,
   "metadata": {
    "collapsed": false
   },
   "outputs": [
    {
     "name": "stdout",
     "output_type": "stream",
     "text": [
      "_________________________________________________________________\n",
      "Layer (type)                 Output Shape              Param #   \n",
      "=================================================================\n",
      "conv1d_2 (Conv1D)            (None, 25, 128)           640128    \n",
      "_________________________________________________________________\n",
      "flatten_2 (Flatten)          (None, 3200)              0         \n",
      "_________________________________________________________________\n",
      "dense_4 (Dense)              (None, 128)               409728    \n",
      "_________________________________________________________________\n",
      "activation_4 (Activation)    (None, 128)               0         \n",
      "_________________________________________________________________\n",
      "dense_5 (Dense)              (None, 64)                8256      \n",
      "_________________________________________________________________\n",
      "activation_5 (Activation)    (None, 64)                0         \n",
      "_________________________________________________________________\n",
      "dense_6 (Dense)              (None, 3)                 195       \n",
      "_________________________________________________________________\n",
      "activation_6 (Activation)    (None, 3)                 0         \n",
      "=================================================================\n",
      "Total params: 1,058,307\n",
      "Trainable params: 1,058,307\n",
      "Non-trainable params: 0\n",
      "_________________________________________________________________\n",
      "None\n"
     ]
    }
   ],
   "source": [
    "model_onehot = Sequential()\n",
    "model_onehot.add(Conv1D(128, 5, activation='relu', input_shape=(max_seq_len, MAX_WORDS)))\n",
    "#model_onehot.add(MaxPooling1D(5))\n",
    "model_onehot.add(Flatten())\n",
    "model_onehot.add(Dense(128))\n",
    "model_onehot.add(Activation('relu'))\n",
    "model_onehot.add(Dense(64)) \n",
    "model_onehot.add(Activation('relu'))\n",
    "model_onehot.add(Dense(NUM_LABELS))\n",
    "model_onehot.add(Activation('softmax'))\n",
    "\n",
    "print(model_onehot.summary())"
   ]
  },
  {
   "cell_type": "code",
   "execution_count": 21,
   "metadata": {
    "collapsed": true
   },
   "outputs": [],
   "source": [
    "model_onehot.compile(loss='categorical_crossentropy', optimizer='adam', metrics=['accuracy'])"
   ]
  },
  {
   "cell_type": "code",
   "execution_count": 22,
   "metadata": {
    "collapsed": false
   },
   "outputs": [
    {
     "name": "stdout",
     "output_type": "stream",
     "text": [
      "Train on 629 samples, validate on 70 samples\n",
      "Epoch 1/20\n",
      "629/629 [==============================] - 3s 5ms/step - loss: 1.0731 - acc: 0.3800 - val_loss: 1.0841 - val_acc: 0.3857\n",
      "Epoch 2/20\n",
      "629/629 [==============================] - 2s 3ms/step - loss: 0.9401 - acc: 0.7027 - val_loss: 0.9863 - val_acc: 0.5429\n",
      "Epoch 3/20\n",
      "629/629 [==============================] - 2s 3ms/step - loss: 0.4366 - acc: 0.8983 - val_loss: 0.8531 - val_acc: 0.6000\n",
      "Epoch 4/20\n",
      "629/629 [==============================] - 2s 3ms/step - loss: 0.0983 - acc: 0.9857 - val_loss: 1.1546 - val_acc: 0.6000\n",
      "Epoch 5/20\n",
      "629/629 [==============================] - 2s 3ms/step - loss: 0.0434 - acc: 0.9873 - val_loss: 1.3093 - val_acc: 0.5714\n",
      "Epoch 6/20\n",
      "629/629 [==============================] - 2s 3ms/step - loss: 0.0208 - acc: 0.9936 - val_loss: 1.2913 - val_acc: 0.6286\n",
      "Epoch 7/20\n",
      "629/629 [==============================] - 2s 3ms/step - loss: 0.0084 - acc: 1.0000 - val_loss: 1.2490 - val_acc: 0.6000\n",
      "Epoch 8/20\n",
      "629/629 [==============================] - 2s 3ms/step - loss: 0.0048 - acc: 1.0000 - val_loss: 1.4478 - val_acc: 0.6143\n",
      "Epoch 9/20\n",
      "629/629 [==============================] - 2s 3ms/step - loss: 0.0033 - acc: 1.0000 - val_loss: 1.3376 - val_acc: 0.6143\n",
      "Epoch 10/20\n",
      "629/629 [==============================] - 2s 3ms/step - loss: 0.0024 - acc: 1.0000 - val_loss: 1.5702 - val_acc: 0.5571\n",
      "Epoch 11/20\n",
      "629/629 [==============================] - 2s 3ms/step - loss: 0.0018 - acc: 1.0000 - val_loss: 1.3681 - val_acc: 0.6000\n",
      "Epoch 12/20\n",
      "629/629 [==============================] - 2s 3ms/step - loss: 0.0015 - acc: 1.0000 - val_loss: 1.4376 - val_acc: 0.6143\n",
      "Epoch 13/20\n",
      "629/629 [==============================] - 2s 3ms/step - loss: 0.0011 - acc: 1.0000 - val_loss: 1.4593 - val_acc: 0.6143\n",
      "Epoch 14/20\n",
      "629/629 [==============================] - 2s 3ms/step - loss: 0.0010 - acc: 1.0000 - val_loss: 1.4640 - val_acc: 0.6286\n",
      "Epoch 15/20\n",
      "629/629 [==============================] - 2s 3ms/step - loss: 8.7668e-04 - acc: 1.0000 - val_loss: 1.5313 - val_acc: 0.6286\n",
      "Epoch 16/20\n",
      "629/629 [==============================] - 2s 3ms/step - loss: 7.9123e-04 - acc: 1.0000 - val_loss: 1.4178 - val_acc: 0.6143\n",
      "Epoch 17/20\n",
      "629/629 [==============================] - 2s 3ms/step - loss: 6.2497e-04 - acc: 1.0000 - val_loss: 1.5008 - val_acc: 0.6143\n",
      "Epoch 18/20\n",
      "629/629 [==============================] - 3s 4ms/step - loss: 4.8825e-04 - acc: 1.0000 - val_loss: 1.5383 - val_acc: 0.6143\n",
      "Epoch 19/20\n",
      "629/629 [==============================] - 2s 4ms/step - loss: 4.3673e-04 - acc: 1.0000 - val_loss: 1.5127 - val_acc: 0.6143\n",
      "Epoch 20/20\n",
      "629/629 [==============================] - 3s 4ms/step - loss: 4.0275e-04 - acc: 1.0000 - val_loss: 1.4861 - val_acc: 0.6429\n"
     ]
    }
   ],
   "source": [
    "history_onehot = model_onehot.fit(X_train_onehot, y_train, batch_size=32, epochs=20, verbose=1, validation_split=0.1)"
   ]
  },
  {
   "cell_type": "code",
   "execution_count": 23,
   "metadata": {
    "collapsed": false
   },
   "outputs": [
    {
     "name": "stdout",
     "output_type": "stream",
     "text": [
      "298/298 [==============================] - 0s 1ms/step\n",
      "Test score: 1.3819968148365918\n",
      "Test accuracy: 0.6677852344992977\n"
     ]
    }
   ],
   "source": [
    "score_onehot = model_onehot.evaluate(X_test_onehot, y_test, batch_size=32, verbose=1)\n",
    "print('Test score:', score_onehot[0])\n",
    "print('Test accuracy:', score_onehot[1])"
   ]
  },
  {
   "cell_type": "markdown",
   "metadata": {},
   "source": [
    "## Training the model (with word embeddings)\n",
    "\n",
    "Finally, we use word embeddings."
   ]
  },
  {
   "cell_type": "markdown",
   "metadata": {},
   "source": [
    "### Define network model\n",
    "\n",
    "This model now has an `Embedding` layer. "
   ]
  },
  {
   "cell_type": "code",
   "execution_count": 24,
   "metadata": {
    "collapsed": false
   },
   "outputs": [
    {
     "name": "stdout",
     "output_type": "stream",
     "text": [
      "_________________________________________________________________\n",
      "Layer (type)                 Output Shape              Param #   \n",
      "=================================================================\n",
      "embedding_1 (Embedding)      (None, 29, 50)            50000     \n",
      "_________________________________________________________________\n",
      "conv1d_3 (Conv1D)            (None, 25, 128)           32128     \n",
      "_________________________________________________________________\n",
      "flatten_3 (Flatten)          (None, 3200)              0         \n",
      "_________________________________________________________________\n",
      "dense_7 (Dense)              (None, 128)               409728    \n",
      "_________________________________________________________________\n",
      "activation_7 (Activation)    (None, 128)               0         \n",
      "_________________________________________________________________\n",
      "dense_8 (Dense)              (None, 64)                8256      \n",
      "_________________________________________________________________\n",
      "activation_8 (Activation)    (None, 64)                0         \n",
      "_________________________________________________________________\n",
      "dense_9 (Dense)              (None, 3)                 195       \n",
      "_________________________________________________________________\n",
      "activation_9 (Activation)    (None, 3)                 0         \n",
      "=================================================================\n",
      "Total params: 500,307\n",
      "Trainable params: 500,307\n",
      "Non-trainable params: 0\n",
      "_________________________________________________________________\n",
      "None\n"
     ]
    }
   ],
   "source": [
    "model_embed = Sequential()\n",
    "model_embed.add(Embedding(MAX_WORDS, EMBEDDING_DIM, input_length=max_seq_len))\n",
    "model_embed.add(Conv1D(128, 5, activation='relu'))\n",
    "#model_embed.add(MaxPooling1D(5))\n",
    "model_embed.add(Flatten())\n",
    "model_embed.add(Dense(128))\n",
    "model_embed.add(Activation('relu'))\n",
    "model_embed.add(Dense(64)) \n",
    "model_embed.add(Activation('relu'))\n",
    "model_embed.add(Dense(NUM_LABELS))\n",
    "model_embed.add(Activation('softmax'))\n",
    "\n",
    "print(model_embed.summary())"
   ]
  },
  {
   "cell_type": "markdown",
   "metadata": {},
   "source": [
    "### Compile model"
   ]
  },
  {
   "cell_type": "code",
   "execution_count": 25,
   "metadata": {
    "collapsed": true
   },
   "outputs": [],
   "source": [
    "model_embed.compile(loss='categorical_crossentropy', optimizer='adam', metrics=['accuracy'])"
   ]
  },
  {
   "cell_type": "markdown",
   "metadata": {},
   "source": [
    "### Train model"
   ]
  },
  {
   "cell_type": "code",
   "execution_count": 26,
   "metadata": {
    "collapsed": false
   },
   "outputs": [
    {
     "name": "stdout",
     "output_type": "stream",
     "text": [
      "Train on 629 samples, validate on 70 samples\n",
      "Epoch 1/20\n",
      "629/629 [==============================] - 1s 2ms/step - loss: 1.0862 - acc: 0.3593 - val_loss: 1.0830 - val_acc: 0.4143\n",
      "Epoch 2/20\n",
      "629/629 [==============================] - 0s 675us/step - loss: 1.0361 - acc: 0.4928 - val_loss: 1.0386 - val_acc: 0.4857\n",
      "Epoch 3/20\n",
      "629/629 [==============================] - 0s 675us/step - loss: 0.8206 - acc: 0.6486 - val_loss: 0.9456 - val_acc: 0.5429\n",
      "Epoch 4/20\n",
      "629/629 [==============================] - 0s 732us/step - loss: 0.4218 - acc: 0.8060 - val_loss: 1.1224 - val_acc: 0.6000\n",
      "Epoch 5/20\n",
      "629/629 [==============================] - 0s 746us/step - loss: 0.1639 - acc: 0.9634 - val_loss: 1.4062 - val_acc: 0.6429\n",
      "Epoch 6/20\n",
      "629/629 [==============================] - 1s 839us/step - loss: 0.0754 - acc: 0.9793 - val_loss: 2.0008 - val_acc: 0.5571\n",
      "Epoch 7/20\n",
      "629/629 [==============================] - 0s 670us/step - loss: 0.0405 - acc: 0.9857 - val_loss: 1.6352 - val_acc: 0.6429\n",
      "Epoch 8/20\n",
      "629/629 [==============================] - 0s 630us/step - loss: 0.0154 - acc: 0.9952 - val_loss: 1.6319 - val_acc: 0.6429\n",
      "Epoch 9/20\n",
      "629/629 [==============================] - 0s 650us/step - loss: 0.0068 - acc: 1.0000 - val_loss: 1.6815 - val_acc: 0.6429\n",
      "Epoch 10/20\n",
      "629/629 [==============================] - 0s 647us/step - loss: 0.0042 - acc: 1.0000 - val_loss: 1.7081 - val_acc: 0.6571\n",
      "Epoch 11/20\n",
      "629/629 [==============================] - 0s 686us/step - loss: 0.0031 - acc: 1.0000 - val_loss: 2.0943 - val_acc: 0.6143\n",
      "Epoch 12/20\n",
      "629/629 [==============================] - 0s 687us/step - loss: 0.0037 - acc: 0.9984 - val_loss: 1.8045 - val_acc: 0.6571\n",
      "Epoch 13/20\n",
      "629/629 [==============================] - 0s 709us/step - loss: 0.0016 - acc: 1.0000 - val_loss: 1.9390 - val_acc: 0.6429\n",
      "Epoch 14/20\n",
      "629/629 [==============================] - 0s 771us/step - loss: 0.0014 - acc: 1.0000 - val_loss: 2.0222 - val_acc: 0.6286\n",
      "Epoch 15/20\n",
      "629/629 [==============================] - 0s 741us/step - loss: 8.4895e-04 - acc: 1.0000 - val_loss: 1.8915 - val_acc: 0.6571\n",
      "Epoch 16/20\n",
      "629/629 [==============================] - 0s 749us/step - loss: 6.3554e-04 - acc: 1.0000 - val_loss: 1.9358 - val_acc: 0.6429\n",
      "Epoch 17/20\n",
      "629/629 [==============================] - 0s 781us/step - loss: 4.9679e-04 - acc: 1.0000 - val_loss: 1.9385 - val_acc: 0.6429\n",
      "Epoch 18/20\n",
      "629/629 [==============================] - 1s 811us/step - loss: 4.5426e-04 - acc: 1.0000 - val_loss: 1.9800 - val_acc: 0.6429\n",
      "Epoch 19/20\n",
      "629/629 [==============================] - 0s 776us/step - loss: 3.7974e-04 - acc: 1.0000 - val_loss: 1.9854 - val_acc: 0.6429\n",
      "Epoch 20/20\n",
      "629/629 [==============================] - 1s 829us/step - loss: 3.4761e-04 - acc: 1.0000 - val_loss: 2.0105 - val_acc: 0.6429\n"
     ]
    }
   ],
   "source": [
    "history_embed = model_embed.fit(X_train, y_train, batch_size=32, epochs=20, verbose=1, validation_split=0.1)"
   ]
  },
  {
   "cell_type": "markdown",
   "metadata": {},
   "source": [
    "### Evaluate model"
   ]
  },
  {
   "cell_type": "code",
   "execution_count": 27,
   "metadata": {
    "collapsed": false
   },
   "outputs": [
    {
     "name": "stdout",
     "output_type": "stream",
     "text": [
      "298/298 [==============================] - 0s 128us/step\n",
      "Test score: 1.7192326168085905\n",
      "Test accuracy: 0.697986577181208\n"
     ]
    }
   ],
   "source": [
    "score_embed = model_embed.evaluate(X_test, y_test, batch_size=32, verbose=1)\n",
    "print('Test score:', score_embed[0])\n",
    "print('Test accuracy:', score_embed[1])"
   ]
  },
  {
   "cell_type": "code",
   "execution_count": null,
   "metadata": {
    "collapsed": true
   },
   "outputs": [],
   "source": []
  }
 ],
 "metadata": {
  "anaconda-cloud": {},
  "kernelspec": {
   "display_name": "Python [conda root]",
   "language": "python",
   "name": "conda-root-py"
  },
  "language_info": {
   "codemirror_mode": {
    "name": "ipython",
    "version": 3
   },
   "file_extension": ".py",
   "mimetype": "text/x-python",
   "name": "python",
   "nbconvert_exporter": "python",
   "pygments_lexer": "ipython3",
   "version": "3.5.2"
  }
 },
 "nbformat": 4,
 "nbformat_minor": 1
}
