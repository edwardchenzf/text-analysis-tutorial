{
 "cells": [
  {
   "cell_type": "markdown",
   "metadata": {},
   "source": [
    "# Part-of-Speech (POS) Tagging"
   ]
  },
  {
   "cell_type": "code",
   "execution_count": null,
   "metadata": {},
   "outputs": [],
   "source": [
    "from nltk.tokenize import TweetTokenizer\n",
    "from nltk import pos_tag\n",
    "from nltk.help import upenn_tagset"
   ]
  },
  {
   "cell_type": "code",
   "execution_count": null,
   "metadata": {},
   "outputs": [],
   "source": [
    "upenn_tagset()"
   ]
  },
  {
   "cell_type": "markdown",
   "metadata": {},
   "source": [
    "## Defintion of toy dataset\n",
    "\n",
    "We can simply use the examples sentence from the Tokenization tutorial."
   ]
  },
  {
   "cell_type": "code",
   "execution_count": null,
   "metadata": {},
   "outputs": [],
   "source": [
    "sentences = [\"Text processing with Python is great.\", \n",
    "             \"It isn't (very) complicated to get started.\",\n",
    "             \"However,careful to...you know....avoid mistakes.\",\n",
    "             \"This is so cooool #nltkrocks :))) :-P <3.\"]"
   ]
  },
  {
   "cell_type": "markdown",
   "metadata": {},
   "source": [
    "## Processing of sentences\n",
    "\n",
    "Since we know that there a lot of informal tokens in the sentences, we can the TweetTokenizer. For any kind of more formal text, the default tokenizer will work just find. Even here, the default tokenizer would suffice since the important token (i.e., the \"real\" words) are handled correctly."
   ]
  },
  {
   "cell_type": "code",
   "execution_count": null,
   "metadata": {},
   "outputs": [],
   "source": [
    "tweet_tokenizer = TweetTokenizer()"
   ]
  },
  {
   "cell_type": "markdown",
   "metadata": {},
   "source": [
    "The procrssing itself is just two steps: tokenizing and POS tagging, both provided by available methods. Note that the method `pos_tag()` expects as input a list (of tokens/words) and not a string."
   ]
  },
  {
   "cell_type": "code",
   "execution_count": null,
   "metadata": {},
   "outputs": [],
   "source": [
    "print ('\\nOutput of NLTK POS tagger:')\n",
    "for s in sentences:\n",
    "    token_list = tweet_tokenizer.tokenize(s)\n",
    "    pos_tag_list = pos_tag(token_list)\n",
    "    print ('\\n', pos_tag_list)"
   ]
  },
  {
   "cell_type": "markdown",
   "metadata": {},
   "source": [
    "## POS tagging with spaCy"
   ]
  },
  {
   "cell_type": "code",
   "execution_count": null,
   "metadata": {},
   "outputs": [],
   "source": [
    "import spacy"
   ]
  },
  {
   "cell_type": "code",
   "execution_count": null,
   "metadata": {},
   "outputs": [],
   "source": [
    "nlp = spacy.load('en_core_web_sm')"
   ]
  },
  {
   "cell_type": "code",
   "execution_count": null,
   "metadata": {},
   "outputs": [],
   "source": [
    "print ('\\nOutput of spaCy POS tagger:')\n",
    "for s in sentences:\n",
    "    doc = nlp(s) # doc is an object, not just a simple list\n",
    "    # Let's create a list so the output matches the previous ones\n",
    "    token_list = []\n",
    "    for token in doc:\n",
    "        token_list.append((token.text, token.tag_)) # token is also an object, not a string\n",
    "    print ('\\n', token_list)"
   ]
  },
  {
   "cell_type": "markdown",
   "metadata": {},
   "source": [
    "The results of the NLTK and spaCy POS tagger are not exactly the same. The reasons is that the two packages use different tokenizers but also different models to POS tag the tokens; see particularly the emoticons. In most cases, this doesn't matter, since \"normal words\" are mostly tagged correctly across different POS taggers."
   ]
  },
  {
   "cell_type": "markdown",
   "metadata": {
    "collapsed": true
   },
   "source": [
    "## Application use case: analysis of restaurant reviews\n",
    "\n",
    "Knowing the POS tags of tokens/words is useful for various subsequent analyses. In the following example, we want to analyze 1,000 Yelp reviews about the restaurant \"Mon Ami Gabi\" in Las Vegas (USA) to see which adjectives are most commonly used.\n",
    "\n",
    "- Link to restaurant on Yelp: https://www.yelp.com/biz/mon-ami-gabi-las-vegas-2"
   ]
  },
  {
   "cell_type": "markdown",
   "metadata": {},
   "source": [
    "### Load reviews from CSV file\n",
    "\n",
    "`pandas` is a very popular package for handling structured files like CSV files."
   ]
  },
  {
   "cell_type": "code",
   "execution_count": null,
   "metadata": {},
   "outputs": [],
   "source": [
    "import pandas as pd"
   ]
  },
  {
   "cell_type": "markdown",
   "metadata": {},
   "source": [
    "`pandas` use the notion of *data frames* (df) to denote data objects"
   ]
  },
  {
   "cell_type": "code",
   "execution_count": null,
   "metadata": {},
   "outputs": [],
   "source": [
    "df = pd.read_csv('data/reviews/yelp-reviews-mon-ami-gabi.csv')\n",
    "\n",
    "df.head()"
   ]
  },
  {
   "cell_type": "markdown",
   "metadata": {},
   "source": [
    "The CSV file with the reviews and thus the data frame have two columns: the review number and the text of the review. Since we're only interested in the review texts, we can simply extract them into a list of strings."
   ]
  },
  {
   "cell_type": "code",
   "execution_count": null,
   "metadata": {},
   "outputs": [],
   "source": [
    "reviews = df['review'].tolist() # \"review\" is the name of the column of interest (see above)"
   ]
  },
  {
   "cell_type": "markdown",
   "metadata": {},
   "source": [
    "### Review analysis\n",
    "\n",
    "For each review, we perform the following steps:\n",
    "- Tokenize review and POS tag all token\n",
    "- Check each token if it is an adjective\n",
    "- If a token is an adjetive, increase a counter for this adjective"
   ]
  },
  {
   "cell_type": "code",
   "execution_count": null,
   "metadata": {},
   "outputs": [],
   "source": [
    "# This dictionary will keep track of the count for each found adjective\n",
    "adjective_frequencies = {}\n",
    "\n",
    "# Check each review on by one\n",
    "for review in reviews:\n",
    "    # Tokenize the review\n",
    "    token_list = tweet_tokenizer.tokenize(review)\n",
    "    # POS tag all words/tokens\n",
    "    pos_tag_list = pos_tag(token_list)\n",
    "    # Count the number of all adjectives\n",
    "    for token, tag in pos_tag_list:\n",
    "        if tag[0].lower() != 'j':\n",
    "            # Ignore token if it is not an adjective (recall that JJ, JJR, JJS indicate adjectives)\n",
    "            continue\n",
    "        # Convert token to lowercase, otherwise \"Good\" and \"good\" are considered differently\n",
    "        token = token.lower()\n",
    "        if token not in adjective_frequencies:\n",
    "            adjective_frequencies[token] = 1.0\n",
    "        else:\n",
    "            adjective_frequencies[token] = adjective_frequencies[token] + 1.0\n",
    "\n",
    "            \n",
    "# We need to convert the dictionary to a list of tuples for the word cloud generation                \n",
    "# Before: {\"small\": 45, \"nice\": 30, \"good\": 102, ...}\n",
    "# After:  [(\"small\", 45), (\"nice\", 30), (\"good\", 102), ...]\n",
    "adjective_frequencies = [ (token, count) for token, count in adjective_frequencies.items() ]                \n",
    "            \n",
    "    \n",
    "# Show the first 5 (word,count) tuples (not sorted because not needed)\n",
    "#print (adjective_frequencies[:5])"
   ]
  },
  {
   "cell_type": "markdown",
   "metadata": {},
   "source": [
    "### Visualization of results\n",
    "\n",
    "We use a readily available Python package (`wordcloud`) for convenience"
   ]
  },
  {
   "cell_type": "code",
   "execution_count": null,
   "metadata": {},
   "outputs": [],
   "source": [
    "from utils.plotutil import show_wordcloud"
   ]
  },
  {
   "cell_type": "code",
   "execution_count": null,
   "metadata": {},
   "outputs": [],
   "source": [
    "show_wordcloud(adjective_frequencies)"
   ]
  },
  {
   "cell_type": "code",
   "execution_count": null,
   "metadata": {},
   "outputs": [],
   "source": []
  }
 ],
 "metadata": {
  "anaconda-cloud": {},
  "kernelspec": {
   "display_name": "Python [conda root]",
   "language": "python",
   "name": "conda-root-py"
  },
  "language_info": {
   "codemirror_mode": {
    "name": "ipython",
    "version": 3
   },
   "file_extension": ".py",
   "mimetype": "text/x-python",
   "name": "python",
   "nbconvert_exporter": "python",
   "pygments_lexer": "ipython3",
   "version": "3.5.4"
  }
 },
 "nbformat": 4,
 "nbformat_minor": 1
}
