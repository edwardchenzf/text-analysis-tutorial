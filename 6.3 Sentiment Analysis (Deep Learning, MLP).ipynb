{
 "cells": [
  {
   "cell_type": "markdown",
   "metadata": {},
   "source": [
    "# Sentiment Analysis (Deep Learning, MLP)\n",
    "\n",
    "In this tutorial, we perform sentiment analysis using deep learning, where we use a basic Multilayer Perceptron (MLP) network structure."
   ]
  },
  {
   "cell_type": "markdown",
   "metadata": {},
   "source": [
    "## Import required packages"
   ]
  },
  {
   "cell_type": "code",
   "execution_count": 1,
   "metadata": {
    "collapsed": false
   },
   "outputs": [
    {
     "name": "stderr",
     "output_type": "stream",
     "text": [
      "Using TensorFlow backend.\n"
     ]
    }
   ],
   "source": [
    "import numpy as np\n",
    "import pandas as pd\n",
    "\n",
    "from keras.preprocessing.text import Tokenizer\n",
    "from keras.models import Sequential\n",
    "from keras.layers import Dense, Activation\n",
    "\n",
    "from sklearn.preprocessing import LabelBinarizer\n",
    "from sklearn.metrics import confusion_matrix\n",
    "from sklearn.metrics import classification_report\n",
    "\n",
    "# The next imports are only needed for the preprocessing\n",
    "from nltk.tokenize import TweetTokenizer\n",
    "from nltk.stem import WordNetLemmatizer\n",
    "from utils.nlputil import preprocess_text"
   ]
  },
  {
   "cell_type": "markdown",
   "metadata": {},
   "source": [
    "We need a tokenizer and Lemmatizer for the preprocessing."
   ]
  },
  {
   "cell_type": "code",
   "execution_count": 2,
   "metadata": {
    "collapsed": true
   },
   "outputs": [],
   "source": [
    "tweet_tokenizer = TweetTokenizer()\n",
    "wordnet_lemmatizer = WordNetLemmatizer()"
   ]
  },
  {
   "cell_type": "markdown",
   "metadata": {},
   "source": [
    "## Load and prepare data\n",
    "\n",
    "We use `pandas` as usual to read the file with the tweets and assigned sentiment labels. In this case, we have 2 files, one containing the traing data and the test data. For both files we perform the following steps:\n",
    "\n",
    "* Store tweets and labels (polarities) into separate lists for further processing\n",
    "* Preprocess the tweets"
   ]
  },
  {
   "cell_type": "code",
   "execution_count": 3,
   "metadata": {
    "collapsed": false
   },
   "outputs": [
    {
     "data": {
      "text/html": [
       "<div>\n",
       "<table border=\"1\" class=\"dataframe\">\n",
       "  <thead>\n",
       "    <tr style=\"text-align: right;\">\n",
       "      <th></th>\n",
       "      <th>tweet</th>\n",
       "      <th>senti</th>\n",
       "    </tr>\n",
       "  </thead>\n",
       "  <tbody>\n",
       "    <tr>\n",
       "      <th>0</th>\n",
       "      <td>@united UA5396 can wait for me. I'm on the gro...</td>\n",
       "      <td>0</td>\n",
       "    </tr>\n",
       "    <tr>\n",
       "      <th>1</th>\n",
       "      <td>I hate Time Warner! Soooo wish I had Vios. Can...</td>\n",
       "      <td>0</td>\n",
       "    </tr>\n",
       "    <tr>\n",
       "      <th>2</th>\n",
       "      <td>Tom Shanahan's latest column on SDSU and its N...</td>\n",
       "      <td>2</td>\n",
       "    </tr>\n",
       "    <tr>\n",
       "      <th>3</th>\n",
       "      <td>Found the self driving car!! /IWo3QSvdu2</td>\n",
       "      <td>2</td>\n",
       "    </tr>\n",
       "    <tr>\n",
       "      <th>4</th>\n",
       "      <td>@united arrived in YYZ to take our flight to T...</td>\n",
       "      <td>0</td>\n",
       "    </tr>\n",
       "  </tbody>\n",
       "</table>\n",
       "</div>"
      ],
      "text/plain": [
       "                                               tweet  senti\n",
       "0  @united UA5396 can wait for me. I'm on the gro...      0\n",
       "1  I hate Time Warner! Soooo wish I had Vios. Can...      0\n",
       "2  Tom Shanahan's latest column on SDSU and its N...      2\n",
       "3           Found the self driving car!! /IWo3QSvdu2      2\n",
       "4  @united arrived in YYZ to take our flight to T...      0"
      ]
     },
     "execution_count": 3,
     "metadata": {},
     "output_type": "execute_result"
    }
   ],
   "source": [
    "df_tweets_train = pd.read_csv('data/twitter-sentiment/twitter-sentiment-bowden-training.csv')\n",
    "\n",
    "# Print the first 5 lines\n",
    "df_tweets_train.head()"
   ]
  },
  {
   "cell_type": "code",
   "execution_count": 5,
   "metadata": {
    "collapsed": true
   },
   "outputs": [],
   "source": [
    "train_tweets = df_tweets_train['tweet']\n",
    "train_polarities = df_tweets_train['senti']\n",
    "\n",
    "train_tweets_processed = [''] * len(train_tweets)\n",
    "for idx, doc in enumerate(train_tweets):\n",
    "    train_tweets_processed[idx] = preprocess_text(doc, tokenizer=tweet_tokenizer, lemmatizer=wordnet_lemmatizer)"
   ]
  },
  {
   "cell_type": "code",
   "execution_count": 4,
   "metadata": {
    "collapsed": true
   },
   "outputs": [],
   "source": [
    "df_tweets_test = pd.read_csv('data/twitter-sentiment/twitter-sentiment-bowden-test.csv')\n",
    "\n",
    "test_tweets = df_tweets_test['tweet']\n",
    "test_polarities = df_tweets_test['senti']  \n",
    "\n",
    "test_tweets_processed = [''] * len(test_tweets)\n",
    "for idx, doc in enumerate(test_tweets):\n",
    "    test_tweets_processed[idx] = preprocess_text(doc, tokenizer=tweet_tokenizer, lemmatizer=wordnet_lemmatizer)    "
   ]
  },
  {
   "cell_type": "code",
   "execution_count": 6,
   "metadata": {
    "collapsed": false
   },
   "outputs": [
    {
     "name": "stdout",
     "output_type": "stream",
     "text": [
      "Number of training data: 699\n",
      "Number of test data: 298\n"
     ]
    }
   ],
   "source": [
    "print(\"Number of training data: {}\".format(len(train_tweets_processed)))\n",
    "print(\"Number of test data: {}\".format(len(test_tweets_processed)))"
   ]
  },
  {
   "cell_type": "markdown",
   "metadata": {},
   "source": [
    "### Encode / vectorize data\n",
    "\n",
    "We need to encode both the tweets as well as the labels to use them as input and output for the network.\n",
    "\n",
    "For convenience, we use the `Tokenizer` class provided by Keras. It generates a document term matrix with binaty weights. We can limit the vocabulary the *N* most frequently used words (here *N=250*)"
   ]
  },
  {
   "cell_type": "code",
   "execution_count": 7,
   "metadata": {
    "collapsed": true
   },
   "outputs": [],
   "source": [
    "vocab_size = 250\n",
    "tokenizer = Tokenizer(num_words=vocab_size)\n",
    "tokenizer.fit_on_texts(train_tweets_processed)"
   ]
  },
  {
   "cell_type": "code",
   "execution_count": 8,
   "metadata": {
    "collapsed": true
   },
   "outputs": [],
   "source": [
    "#X_train = tokenize.texts_to_matrix(train_tweets)\n",
    "X_train = tokenizer.texts_to_matrix(train_tweets_processed)\n",
    "\n",
    "#X_test = tokenize.texts_to_matrix(test_tweets)\n",
    "X_test = tokenizer.texts_to_matrix(test_tweets_processed)"
   ]
  },
  {
   "cell_type": "markdown",
   "metadata": {},
   "source": [
    "For illustration, print the vector for the first tweet. The vector has a length of 250 (the size of the vocabulary). A 1 at position *i* indicates that the tweet contains the word with the word index *i*"
   ]
  },
  {
   "cell_type": "code",
   "execution_count": 9,
   "metadata": {
    "collapsed": false
   },
   "outputs": [
    {
     "name": "stdout",
     "output_type": "stream",
     "text": [
      "[0. 0. 0. 0. 1. 0. 1. 0. 1. 0. 0. 0. 0. 0. 0. 0. 0. 0. 0. 0. 0. 0. 0. 0.\n",
      " 0. 0. 0. 0. 0. 0. 0. 0. 0. 0. 0. 0. 0. 0. 0. 0. 0. 0. 0. 0. 0. 0. 0. 0.\n",
      " 0. 0. 1. 0. 0. 0. 0. 0. 0. 0. 0. 0. 0. 0. 0. 0. 0. 0. 0. 0. 0. 0. 0. 0.\n",
      " 0. 0. 0. 0. 0. 0. 0. 0. 0. 0. 0. 0. 0. 0. 0. 0. 0. 0. 0. 0. 0. 0. 0. 0.\n",
      " 0. 0. 0. 0. 0. 0. 0. 0. 0. 0. 0. 0. 0. 0. 0. 0. 0. 0. 0. 0. 0. 0. 0. 0.\n",
      " 0. 0. 0. 0. 0. 0. 0. 0. 0. 0. 0. 0. 0. 0. 0. 0. 0. 0. 0. 0. 0. 0. 0. 0.\n",
      " 0. 0. 0. 0. 0. 0. 0. 0. 0. 0. 0. 0. 0. 0. 0. 0. 0. 0. 0. 0. 0. 0. 0. 0.\n",
      " 0. 0. 0. 0. 0. 0. 1. 0. 0. 0. 0. 0. 0. 0. 0. 0. 0. 0. 0. 0. 0. 0. 0. 0.\n",
      " 0. 0. 0. 0. 0. 0. 0. 0. 1. 0. 0. 0. 0. 0. 0. 0. 0. 0. 0. 0. 0. 0. 0. 0.\n",
      " 0. 0. 0. 0. 0. 0. 0. 0. 0. 0. 0. 0. 0. 0. 0. 0. 0. 0. 0. 0. 0. 0. 0. 0.\n",
      " 0. 0. 0. 0. 0. 0. 0. 0. 0. 0.]\n"
     ]
    }
   ],
   "source": [
    "print(X_train[0])"
   ]
  },
  {
   "cell_type": "markdown",
   "metadata": {},
   "source": [
    "Since we have 3 classes (positive, netural, negative) our network will have a output layer of 3 neurons. For the network to calculate the costs given a predicted output (3 values) and the true output, we need to convert the true label to vector with also 3 values. \n",
    "\n",
    "We can use existing methods to easily convert the true labels into the respective one-hot vectors"
   ]
  },
  {
   "cell_type": "code",
   "execution_count": 10,
   "metadata": {
    "collapsed": false
   },
   "outputs": [
    {
     "name": "stdout",
     "output_type": "stream",
     "text": [
      "[[1 0 0]\n",
      " [1 0 0]\n",
      " [1 0 0]\n",
      " [0 0 1]\n",
      " [1 0 0]\n",
      " [1 0 0]\n",
      " [0 0 1]\n",
      " [1 0 0]\n",
      " [0 0 1]\n",
      " [0 1 0]]\n"
     ]
    }
   ],
   "source": [
    "encoder = LabelBinarizer()\n",
    "encoder.fit(train_polarities)\n",
    "y_train = encoder.transform(train_polarities)\n",
    "y_test = encoder.transform(test_polarities)\n",
    "\n",
    "print(y_test[:10])"
   ]
  },
  {
   "cell_type": "markdown",
   "metadata": {},
   "source": [
    "## Define the network model\n",
    "\n",
    "We are use MLP, i.e., a simple stack of fully connected layers (`Dense`). Apart from the input layer, we also define\n",
    "\n",
    "* 1st hidden layer of size 512\n",
    "* 2nd hidden layer of size 256\n",
    "* Output layer of size 3 (on for each class)"
   ]
  },
  {
   "cell_type": "code",
   "execution_count": 11,
   "metadata": {
    "collapsed": false
   },
   "outputs": [
    {
     "name": "stdout",
     "output_type": "stream",
     "text": [
      "_________________________________________________________________\n",
      "Layer (type)                 Output Shape              Param #   \n",
      "=================================================================\n",
      "dense_1 (Dense)              (None, 512)               128512    \n",
      "_________________________________________________________________\n",
      "activation_1 (Activation)    (None, 512)               0         \n",
      "_________________________________________________________________\n",
      "dense_2 (Dense)              (None, 256)               131328    \n",
      "_________________________________________________________________\n",
      "activation_2 (Activation)    (None, 256)               0         \n",
      "_________________________________________________________________\n",
      "dense_3 (Dense)              (None, 3)                 771       \n",
      "_________________________________________________________________\n",
      "activation_3 (Activation)    (None, 3)                 0         \n",
      "=================================================================\n",
      "Total params: 260,611\n",
      "Trainable params: 260,611\n",
      "Non-trainable params: 0\n",
      "_________________________________________________________________\n",
      "None\n"
     ]
    }
   ],
   "source": [
    "num_labels = 3 # We have 3 polarity classes\n",
    "\n",
    "model = Sequential()\n",
    "model.add(Dense(512, input_shape=(vocab_size,)))\n",
    "model.add(Activation('relu'))\n",
    "model.add(Dense(256)) # No need to specify input size - is derived from output of previous layer\n",
    "model.add(Activation('relu'))\n",
    "model.add(Dense(num_labels))\n",
    "model.add(Activation('softmax'))\n",
    "\n",
    "print(model.summary())"
   ]
  },
  {
   "cell_type": "markdown",
   "metadata": {},
   "source": [
    "For MLPs it's easy to calculate the number of parameters manually, so let's to this for illustrative purposes:\n",
    "\n",
    "* 1st hidden layer: 250 (input layer size) * 512 (1st hidden layer size) + 512 (1st hidden layer size; for biases) = 128,512\n",
    "\n",
    "* 2nd hidden layer: 512 (input layer size) * 256 (2nd hidden layer size) + 256 (2nd hidden layer size; for biases) = 131,328\n",
    "\n",
    "* Output layer: 256 (2nd hidden layer size) * 3 (output layer size) + 3 (output layer size, for biases) = 771"
   ]
  },
  {
   "cell_type": "markdown",
   "metadata": {},
   "source": [
    "### Compiling the model\n",
    "\n",
    "Compiling the model essentially initializes all the weights with some random value. We also specify here which loss and which optimizer we want to use."
   ]
  },
  {
   "cell_type": "code",
   "execution_count": 12,
   "metadata": {
    "collapsed": true
   },
   "outputs": [],
   "source": [
    "model.compile(loss='categorical_crossentropy', optimizer='adam', metrics=['accuracy'])"
   ]
  },
  {
   "cell_type": "markdown",
   "metadata": {},
   "source": [
    "## Training the model\n",
    "\n",
    "With everyhing in place, we can train the model by calling the `fit()` method. Apart from the training data and labels, the method takes the followning input parameters:\n",
    "\n",
    "* `batch_size`: the number of training data that are evaluated in one pass\n",
    "\n",
    "* `epochs`: the number of times the whole training data is passed through the network\n",
    "\n",
    "* `verbose`: different levels of outputs to follow the training progress\n",
    "\n",
    "* `validation_split`: ratio of how much of the data is used for the validation"
   ]
  },
  {
   "cell_type": "code",
   "execution_count": 13,
   "metadata": {
    "collapsed": false
   },
   "outputs": [
    {
     "name": "stdout",
     "output_type": "stream",
     "text": [
      "Train on 629 samples, validate on 70 samples\n",
      "Epoch 1/20\n",
      "629/629 [==============================] - 2s 4ms/step - loss: 1.0120 - acc: 0.4642 - val_loss: 0.9944 - val_acc: 0.4286\n",
      "Epoch 2/20\n",
      "629/629 [==============================] - 0s 183us/step - loss: 0.7136 - acc: 0.7647 - val_loss: 0.8802 - val_acc: 0.5429\n",
      "Epoch 3/20\n",
      "629/629 [==============================] - 0s 185us/step - loss: 0.4341 - acc: 0.8490 - val_loss: 0.8075 - val_acc: 0.6714\n",
      "Epoch 4/20\n",
      "629/629 [==============================] - 0s 196us/step - loss: 0.2649 - acc: 0.9205 - val_loss: 0.9247 - val_acc: 0.6857\n",
      "Epoch 5/20\n",
      "629/629 [==============================] - 0s 172us/step - loss: 0.1743 - acc: 0.9523 - val_loss: 1.0541 - val_acc: 0.6857\n",
      "Epoch 6/20\n",
      "629/629 [==============================] - 0s 181us/step - loss: 0.1123 - acc: 0.9682 - val_loss: 1.1768 - val_acc: 0.6857\n",
      "Epoch 7/20\n",
      "629/629 [==============================] - 0s 172us/step - loss: 0.0893 - acc: 0.9714 - val_loss: 1.2199 - val_acc: 0.6857\n",
      "Epoch 8/20\n",
      "629/629 [==============================] - 0s 178us/step - loss: 0.0734 - acc: 0.9730 - val_loss: 1.2976 - val_acc: 0.7000\n",
      "Epoch 9/20\n",
      "629/629 [==============================] - 0s 176us/step - loss: 0.0709 - acc: 0.9730 - val_loss: 1.4265 - val_acc: 0.6571\n",
      "Epoch 10/20\n",
      "629/629 [==============================] - 0s 177us/step - loss: 0.0645 - acc: 0.9762 - val_loss: 1.4409 - val_acc: 0.6857\n",
      "Epoch 11/20\n",
      "629/629 [==============================] - 0s 180us/step - loss: 0.0601 - acc: 0.9762 - val_loss: 1.4821 - val_acc: 0.7000\n",
      "Epoch 12/20\n",
      "629/629 [==============================] - 0s 188us/step - loss: 0.0541 - acc: 0.9746 - val_loss: 1.5076 - val_acc: 0.6571\n",
      "Epoch 13/20\n",
      "629/629 [==============================] - 0s 180us/step - loss: 0.0538 - acc: 0.9762 - val_loss: 1.5722 - val_acc: 0.6714\n",
      "Epoch 14/20\n",
      "629/629 [==============================] - 0s 172us/step - loss: 0.0550 - acc: 0.9730 - val_loss: 1.5727 - val_acc: 0.6714\n",
      "Epoch 15/20\n",
      "629/629 [==============================] - 0s 186us/step - loss: 0.0524 - acc: 0.9730 - val_loss: 1.6232 - val_acc: 0.6857\n",
      "Epoch 16/20\n",
      "629/629 [==============================] - 0s 180us/step - loss: 0.0512 - acc: 0.9698 - val_loss: 1.6812 - val_acc: 0.6571\n",
      "Epoch 17/20\n",
      "629/629 [==============================] - 0s 186us/step - loss: 0.0528 - acc: 0.9762 - val_loss: 1.6783 - val_acc: 0.6571\n",
      "Epoch 18/20\n",
      "629/629 [==============================] - 0s 183us/step - loss: 0.0565 - acc: 0.9666 - val_loss: 1.6674 - val_acc: 0.6714\n",
      "Epoch 19/20\n",
      "629/629 [==============================] - 0s 189us/step - loss: 0.0532 - acc: 0.9762 - val_loss: 1.7644 - val_acc: 0.6286\n",
      "Epoch 20/20\n",
      "629/629 [==============================] - 0s 191us/step - loss: 0.0499 - acc: 0.9746 - val_loss: 1.7739 - val_acc: 0.6429\n"
     ]
    }
   ],
   "source": [
    "history = model.fit(X_train, y_train, batch_size=32, epochs=20, verbose=1, validation_split=0.1)"
   ]
  },
  {
   "cell_type": "markdown",
   "metadata": {},
   "source": [
    "The training is rather fast simply because we only use ~700 tweets for the training which is a very small dataset for deep learning."
   ]
  },
  {
   "cell_type": "markdown",
   "metadata": {},
   "source": [
    "## Evaluating the model\n",
    "\n",
    "We already prepared the test data. We therefore can use it as input for the provided method `evaluate()`"
   ]
  },
  {
   "cell_type": "code",
   "execution_count": 15,
   "metadata": {
    "collapsed": false
   },
   "outputs": [
    {
     "name": "stdout",
     "output_type": "stream",
     "text": [
      "(298, 250)\n",
      "(298, 3)\n",
      "298/298 [==============================] - 0s 57us/step\n",
      "Test score: 1.6190231942490443\n",
      "Test accuracy: 0.6409395973154363\n"
     ]
    }
   ],
   "source": [
    "print(X_test.shape)\n",
    "print(y_test.shape)\n",
    "\n",
    "score = model.evaluate(X_test, y_test, batch_size=32, verbose=1)\n",
    "print('Test score:', score[0])\n",
    "print('Test accuracy:', score[1])"
   ]
  },
  {
   "cell_type": "markdown",
   "metadata": {},
   "source": [
    "#### More detailed evaluation\n",
    "\n",
    "Keras does not come with any more detailed information regarding an evaluation beyond the accuarcy value. However, one can simple use the methods that come with `scikit-learn` for that; see previous tutorials.\n",
    "\n",
    "We first predict the classes/polarities for the test set."
   ]
  },
  {
   "cell_type": "code",
   "execution_count": 16,
   "metadata": {
    "collapsed": false
   },
   "outputs": [
    {
     "name": "stdout",
     "output_type": "stream",
     "text": [
      "[0 0 0 1 0 2 1 0 2 2 0 1 2 2 2 2 2 2 1 2 0 2 1 0 1 0 0 2 2 0 0 1 1 1 0 2 1\n",
      " 0 1 0 2 2 2 0 1 2 0 2 2 0 2 0 0 2 2 2 0 0 1 2 2 0 2 1 0 0 2 2 1 1 0 0 1 2\n",
      " 0 1 0 0 2 0 0 2 0 2 1 0 0 2 2 0 2 0 1 0 2 2 0 0 0 2 0 1 1 1 0 2 2 2 2 1 0\n",
      " 0 1 2 2 0 2 1 0 0 2 2 0 1 0 2 1 0 1 2 0 2 0 2 2 0 2 0 2 2 0 0 1 0 0 2 0 2\n",
      " 0 1 1 1 1 2 1 2 2 2 2 2 0 1 1 0 1 1 1 2 1 2 2 2 0 2 1 1 0 2 0 0 2 2 2 0 2\n",
      " 2 2 2 1 0 1 2 1 1 1 2 1 1 1 1 0 0 2 2 0 1 2 0 0 0 0 0 1 1 1 1 0 2 2 0 0 0\n",
      " 1 2 1 0 0 2 2 0 0 2 0 0 1 1 2 0 2 2 2 1 0 0 1 0 2 0 2 1 0 2 1 1 1 0 0 2 1\n",
      " 0 1 1 1 1 2 1 0 2 0 1 1 2 0 2 2 0 2 1 2 0 0 2 2 0 2 2 1 2 1 1 0 0 2 2 1 0\n",
      " 1 1]\n"
     ]
    }
   ],
   "source": [
    "y_pred = model.predict_classes([X_test])\n",
    "print(y_pred)"
   ]
  },
  {
   "cell_type": "markdown",
   "metadata": {},
   "source": [
    "`y_pred` contains the values 0, 1 and 2, representing the three classes *negative*, *neutral* and *positive*, respectively. However, the original labels are 0 (*negative*), 2 (*neutral*) and 4 (*positive*). Therefore need to normalize the label so that they match. In our this this is easy, we just need to divide the original labels by 2."
   ]
  },
  {
   "cell_type": "code",
   "execution_count": 17,
   "metadata": {
    "collapsed": false
   },
   "outputs": [
    {
     "name": "stdout",
     "output_type": "stream",
     "text": [
      "[0 0 0 2 0 0 2 0 2 1 1 1 0 2 2 1 2 2 2 0 0 2 1 0 2 0 0 2 1 1 0 1 1 1 0 2 0\n",
      " 0 2 0 2 2 2 0 0 2 0 1 2 0 2 0 0 1 2 2 0 0 1 2 2 1 2 2 0 0 2 0 2 1 0 2 2 1\n",
      " 0 1 0 0 1 0 1 2 2 1 0 1 0 2 2 2 0 0 1 1 2 2 0 0 0 2 0 1 1 1 2 2 2 2 2 0 0\n",
      " 0 1 2 2 0 2 1 0 0 0 0 0 1 1 2 2 0 2 2 2 2 0 2 2 0 0 0 2 2 0 0 1 0 2 0 0 2\n",
      " 0 0 1 0 0 2 0 1 1 0 2 2 1 2 0 0 2 2 0 2 1 2 2 2 2 2 1 1 0 2 0 2 0 0 1 0 1\n",
      " 2 2 2 2 0 2 2 2 1 0 0 1 1 2 1 0 0 2 2 2 1 0 0 0 0 2 2 1 1 2 1 1 2 1 2 1 0\n",
      " 0 2 0 1 0 2 2 0 0 1 2 0 1 1 2 0 2 2 0 1 2 0 1 0 2 0 2 1 0 1 0 1 0 2 0 2 0\n",
      " 2 1 1 0 0 1 1 1 2 0 0 1 2 0 2 1 2 2 2 1 0 0 2 0 0 2 2 1 1 0 1 0 0 2 2 0 2\n",
      " 2 2]\n"
     ]
    }
   ],
   "source": [
    "#y_test_normalized = [ int(p/2) for p in test_polarities ] # Works as well\n",
    "y_test_normalized = np.asarray([ int(p/2) for p in test_polarities ])\n",
    "print(y_test_normalized)"
   ]
  },
  {
   "cell_type": "markdown",
   "metadata": {},
   "source": [
    "Now we can use the useful function provdided by `scikit-learn` to print more detailed values such as precision, recall and f1-score for all classes."
   ]
  },
  {
   "cell_type": "code",
   "execution_count": 18,
   "metadata": {
    "collapsed": false
   },
   "outputs": [
    {
     "name": "stdout",
     "output_type": "stream",
     "text": [
      "[[76 21 16]\n",
      " [12 40 19]\n",
      " [18 21 75]]\n",
      "\n",
      "             precision    recall  f1-score   support\n",
      "\n",
      "          0       0.72      0.67      0.69       113\n",
      "          1       0.49      0.56      0.52        71\n",
      "          2       0.68      0.66      0.67       114\n",
      "\n",
      "avg / total       0.65      0.64      0.64       298\n",
      "\n"
     ]
    }
   ],
   "source": [
    "print(confusion_matrix(y_test_normalized, y_pred))\n",
    "print()\n",
    "print(classification_report(y_test_normalized, y_pred))"
   ]
  },
  {
   "cell_type": "code",
   "execution_count": null,
   "metadata": {
    "collapsed": true
   },
   "outputs": [],
   "source": []
  }
 ],
 "metadata": {
  "anaconda-cloud": {},
  "kernelspec": {
   "display_name": "Python [conda root]",
   "language": "python",
   "name": "conda-root-py"
  },
  "language_info": {
   "codemirror_mode": {
    "name": "ipython",
    "version": 3
   },
   "file_extension": ".py",
   "mimetype": "text/x-python",
   "name": "python",
   "nbconvert_exporter": "python",
   "pygments_lexer": "ipython3",
   "version": "3.5.2"
  }
 },
 "nbformat": 4,
 "nbformat_minor": 1
}
